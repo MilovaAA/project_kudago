{
 "cells": [
  {
   "cell_type": "code",
   "execution_count": 27,
   "metadata": {},
   "outputs": [],
   "source": [
    "# Тема: Сравнительный анализ пабликов, посвященных достопримечательностям и развлечениям Москвы и Санкт-Петербурга.\n",
    "# Задачи: \n",
    "# 1. Выявить существующие в вк паблики, посвященные достопримечательностям и развлечениям в Москве и Санкт-Петербурге.  \n",
    "# 2. Выбрать 2 наиболее значимых паблика по Москве и Санкт-Петербургу. \n",
    "# 3. Определить распределение по полу и возрасту подписчиков каждого паблика. \n",
    "# 3. Определить наиболее распространённые города проживания подписчиков каждого паблика.  \n",
    "# 4. Сравнить распространённость городов проживания подписчиков пабликов. \n",
    "# 6. Выявить наличие и количество людей, состоящих в обоих пабликах.  \n",
    "# 7. Определить, жители каких городов являются подписчиками обоих пабликов. \n",
    "# 8. Выявить наиболее часто встречающиеся в постах пабликов достопримечательности и их пересечения. "
   ]
  },
  {
   "cell_type": "code",
   "execution_count": 341,
   "metadata": {},
   "outputs": [
    {
     "name": "stdout",
     "output_type": "stream",
     "text": [
      "Requirement already satisfied: vk in /opt/anaconda3/lib/python3.8/site-packages (2.0.2)\n",
      "Requirement already satisfied: requests<3.0,>=2.8 in /opt/anaconda3/lib/python3.8/site-packages (from vk) (2.24.0)\n",
      "Requirement already satisfied: chardet<4,>=3.0.2 in /opt/anaconda3/lib/python3.8/site-packages (from requests<3.0,>=2.8->vk) (3.0.4)\n",
      "Requirement already satisfied: idna<3,>=2.5 in /opt/anaconda3/lib/python3.8/site-packages (from requests<3.0,>=2.8->vk) (2.10)\n",
      "Requirement already satisfied: certifi>=2017.4.17 in /opt/anaconda3/lib/python3.8/site-packages (from requests<3.0,>=2.8->vk) (2020.6.20)\n",
      "Requirement already satisfied: urllib3!=1.25.0,!=1.25.1,<1.26,>=1.21.1 in /opt/anaconda3/lib/python3.8/site-packages (from requests<3.0,>=2.8->vk) (1.25.9)\n"
     ]
    }
   ],
   "source": [
    "!pip install vk"
   ]
  },
  {
   "cell_type": "code",
   "execution_count": 342,
   "metadata": {},
   "outputs": [],
   "source": [
    "import vk\n",
    "import json"
   ]
  },
  {
   "cell_type": "code",
   "execution_count": 343,
   "metadata": {},
   "outputs": [],
   "source": [
    "token = \"\"  \n",
    "session = vk.Session(access_token=token)  \n",
    "vk_api = vk.API(session)  "
   ]
  },
  {
   "cell_type": "code",
   "execution_count": 344,
   "metadata": {},
   "outputs": [],
   "source": [
    "personal_token = \"\" \n",
    "session = vk.Session(access_token=personal_token)  \n",
    "vk_personal_api = vk.API(session) "
   ]
  },
  {
   "cell_type": "code",
   "execution_count": 7,
   "metadata": {},
   "outputs": [],
   "source": [
    "# Ищем паблики, посвященные развлечениям и интересным местам Москвы и Санкт-Петербурга, используя различные ключевые слова."
   ]
  },
  {
   "cell_type": "code",
   "execution_count": 8,
   "metadata": {},
   "outputs": [],
   "source": [
    "def get_groups(query):\n",
    "    first = vk_personal_api.groups.search(q=query, count=1000, type=\"group\", v=5.124) \n",
    "    data = first[\"items\"]  \n",
    "    count = first[\"count\"] \n",
    "    return [(i['name'], i['id']) for i in data]"
   ]
  },
  {
   "cell_type": "code",
   "execution_count": 84,
   "metadata": {},
   "outputs": [],
   "source": [
    "# Сначала ищем паблики по Москве:\n",
    "\n",
    "groups_msk1 = get_groups (\"Куда пойти в Москве\")\n",
    "groups_msk2 = get_groups (\"Интересные места Москвы\")\n",
    "groups_msk3 = get_groups (\"Экскурсии по Москве\")\n",
    "groups_msk4 = get_groups (\"События в Москве\")\n"
   ]
  },
  {
   "cell_type": "code",
   "execution_count": 85,
   "metadata": {},
   "outputs": [
    {
     "data": {
      "text/plain": [
       "218"
      ]
     },
     "execution_count": 85,
     "metadata": {},
     "output_type": "execute_result"
    }
   ],
   "source": [
    "all_groups_msk = set (groups_msk1 + groups_msk2 + groups_msk3 + groups_msk4)\n",
    "len (all_groups_msk)"
   ]
  },
  {
   "cell_type": "code",
   "execution_count": 86,
   "metadata": {},
   "outputs": [],
   "source": [
    "# Далее находим схожие паблики по Питеру:\n",
    "\n",
    "groups_spb1 = get_groups (\"Куда пойти в Питере\")\n",
    "groups_spb2 = get_groups (\"Интересные места Питера\")\n",
    "groups_spb3 = get_groups (\"Экскурсии по Питеру\")\n",
    "groups_spb4 = get_groups (\"События в Питере\")"
   ]
  },
  {
   "cell_type": "code",
   "execution_count": 87,
   "metadata": {},
   "outputs": [
    {
     "data": {
      "text/plain": [
       "602"
      ]
     },
     "execution_count": 87,
     "metadata": {},
     "output_type": "execute_result"
    }
   ],
   "source": [
    "all_groups_spb = set (groups_spb1 + groups_spb2 + groups_spb3 + groups_spb4)\n",
    "len (all_groups_spb)\n"
   ]
  },
  {
   "cell_type": "code",
   "execution_count": 88,
   "metadata": {},
   "outputs": [],
   "source": [
    "def save_groups_to_file (filename, groups):\n",
    "    with open(filename, 'w', encoding=\"utf-8\") as f:\n",
    "        for group_name, group_id in groups:\n",
    "            f.write(f\"{group_name}\\t{group_id}\\n\")"
   ]
  },
  {
   "cell_type": "code",
   "execution_count": 89,
   "metadata": {},
   "outputs": [],
   "source": [
    "save_groups_to_file (\"saved_groups_msk.tsv\", all_groups_msk)"
   ]
  },
  {
   "cell_type": "code",
   "execution_count": 90,
   "metadata": {},
   "outputs": [],
   "source": [
    "save_groups_to_file (\"saved_groups_spb.tsv\", all_groups_spb)"
   ]
  },
  {
   "cell_type": "code",
   "execution_count": 57,
   "metadata": {},
   "outputs": [],
   "source": [
    "# Начинаем работать с конкретными пабликами. Выбираем для исследования популярные паблики \"KudaGo: Москва\" и \"KudaGo: Санкт-Петербург\", поскольку это гарантирует наиболее схожую тематику и формат, что позволяет выявить более точные и полные закономерности."
   ]
  },
  {
   "cell_type": "code",
   "execution_count": 40,
   "metadata": {},
   "outputs": [],
   "source": [
    "def get_members(groupid, fields=('sex', 'bdate', 'city', 'country', 'domain')):\n",
    "    first = vk_api.groups.getMembers(group_id=groupid, fields=fields, v=5.92)  \n",
    "    data = first[\"items\"]  \n",
    "    count = first[\"count\"] // 1000  \n",
    "    for i in range(1, count+1):  \n",
    "        data = data + vk_api.groups.getMembers(group_id=groupid, fields=fields, v=5.92, offset=i*1000)[\"items\"]\n",
    "    return data"
   ]
  },
  {
   "cell_type": "code",
   "execution_count": 41,
   "metadata": {},
   "outputs": [],
   "source": [
    "members_msk = get_members (\"kudago\")"
   ]
  },
  {
   "cell_type": "code",
   "execution_count": 42,
   "metadata": {},
   "outputs": [
    {
     "data": {
      "text/plain": [
       "1074738"
      ]
     },
     "execution_count": 42,
     "metadata": {},
     "output_type": "execute_result"
    }
   ],
   "source": [
    "len (members_msk)"
   ]
  },
  {
   "cell_type": "code",
   "execution_count": 43,
   "metadata": {},
   "outputs": [],
   "source": [
    "members_spb = get_members (\"kudagospb\")"
   ]
  },
  {
   "cell_type": "code",
   "execution_count": 44,
   "metadata": {},
   "outputs": [
    {
     "data": {
      "text/plain": [
       "650417"
      ]
     },
     "execution_count": 44,
     "metadata": {},
     "output_type": "execute_result"
    }
   ],
   "source": [
    "len (members_spb)"
   ]
  },
  {
   "cell_type": "code",
   "execution_count": 45,
   "metadata": {},
   "outputs": [],
   "source": [
    "def save_members_to_file(filename, members):\n",
    "    with open(filename, 'w', encoding='utf-8') as f:\n",
    "        for member in members:\n",
    "            _id = member[\"id\"] \n",
    "            first_name = member[\"first_name\"] \n",
    "            last_name = member[\"last_name\"] \n",
    "            \n",
    "            sex = member[\"sex\"] \n",
    "            if int(sex) == 1:   \n",
    "                sex = \"F\"  \n",
    "            elif int(sex) == 2:  \n",
    "                sex = \"M\" \n",
    "            else:  \n",
    "                sex = \"-\"  \n",
    "                \n",
    "            bdate = member.get('bdate', \"-\")   \n",
    "            if len(bdate.split(\".\")) == 3:  \n",
    "                bdate = bdate.split(\".\")[-1]  \n",
    "            else:  \n",
    "                bdate = \"-\"  \n",
    "                \n",
    "            city = member.get('city', {}).get(\"title\", \"-\")  \n",
    "            country = member.get('country', {}).get(\"title\", \"-\")  \n",
    "            f.write(f\"{_id},\\t{first_name}\\t{last_name}\\t{sex}\\t{bdate}\\t{city}\\t{country}\\n\")  "
   ]
  },
  {
   "cell_type": "code",
   "execution_count": 46,
   "metadata": {},
   "outputs": [],
   "source": [
    "save_members_to_file (\"saved_members_msk.tsv\", members_msk)"
   ]
  },
  {
   "cell_type": "code",
   "execution_count": 47,
   "metadata": {},
   "outputs": [],
   "source": [
    "save_members_to_file (\"saved_members_spb.tsv\", members_spb)"
   ]
  },
  {
   "cell_type": "code",
   "execution_count": 48,
   "metadata": {},
   "outputs": [],
   "source": [
    "# Создаём графики по различным параметрам подписчиков (возраст, город проживания) для обоих пабликов."
   ]
  },
  {
   "cell_type": "code",
   "execution_count": 162,
   "metadata": {},
   "outputs": [],
   "source": [
    "import matplotlib.pyplot as plt\n",
    "import seaborn as sns"
   ]
  },
  {
   "cell_type": "code",
   "execution_count": 50,
   "metadata": {},
   "outputs": [],
   "source": [
    "import pandas as pd\n",
    "df_msk = pd.read_csv(\"saved_members_msk.tsv\", sep=\"\\t\", names=[\"id\", \"name\", \"surname\", \"sex\", \"birth\", \"city\", \"country\"])\n",
    "df_spb = pd.read_csv(\"saved_members_spb.tsv\", sep=\"\\t\", names=[\"id\", \"name\", \"surname\", \"sex\", \"birth\", \"city\", \"country\"])"
   ]
  },
  {
   "cell_type": "code",
   "execution_count": 442,
   "metadata": {
    "scrolled": true
   },
   "outputs": [
    {
     "data": {
      "image/png": "[encoded data removed]",
      "text/plain": [
       "<Figure size 1440x720 with 1 Axes>"
      ]
     },
     "metadata": {
      "needs_background": "light"
     },
     "output_type": "display_data"
    }
   ],
   "source": [
    "# Посмотрим средний возраст подписчиков \"KudaGo: Москва\"\n",
    "\n",
    "birth_count_msk = df_msk['birth'].value_counts().drop('-')\n",
    "plt.figure(figsize=(20,10))\n",
    "ax = sns.barplot(birth_count_msk.index, birth_count_msk.values, palette='Blues') \n",
    "plt.title('Год рождения подписчиков паблика \"KudaGo: Москва\"')\n",
    "plt.ylabel('Число подписчиков', fontsize=12)\n",
    "plt.xlabel('Год рождения', fontsize=12)\n",
    "plt.xticks(rotation=90)  \n",
    "plt.savefig (\"birth_count_msk.png\", dpi=1000)"
   ]
  },
  {
   "cell_type": "code",
   "execution_count": 443,
   "metadata": {
    "scrolled": true
   },
   "outputs": [
    {
     "data": {
      "image/png": "[encoded data removed]",
      "text/plain": [
       "<Figure size 1440x720 with 1 Axes>"
      ]
     },
     "metadata": {
      "needs_background": "light"
     },
     "output_type": "display_data"
    }
   ],
   "source": [
    "# Посмотрим средний возраст подписчиков \"KudaGo: Санкт-Петербург\"\n",
    "birth_count_spb = df_spb['birth'].value_counts().drop('-')\n",
    "plt.figure(figsize=(20,10))\n",
    "ax = sns.barplot(birth_count_spb.index, birth_count_spb.values, palette='Blues') \n",
    "plt.title('Год рождения подписчиков паблика \"KudaGo: Санкт-Петербург\"')\n",
    "plt.ylabel('Число подписчиков', fontsize=12)\n",
    "plt.xlabel('Год рождения', fontsize=12)\n",
    "plt.xticks(rotation=90)  \n",
    "plt.savefig (\"birth_count_spb.png\", dpi=1000)\n"
   ]
  },
  {
   "cell_type": "code",
   "execution_count": 456,
   "metadata": {},
   "outputs": [
    {
     "data": {
      "image/png": "[encoded data removed]",
      "text/plain": [
       "<Figure size 720x360 with 1 Axes>"
      ]
     },
     "metadata": {
      "needs_background": "light"
     },
     "output_type": "display_data"
    }
   ],
   "source": [
    "# Посмотрим распределение подписчиков \"KudaGo: Москва\" по полу\n",
    "\n",
    "plt.figure(figsize=(10, 5))\n",
    "sex_count_msk  = df_msk['sex'].value_counts().drop('-') \n",
    "sex_count_msk = sex_count_msk[:2]\n",
    "sex_count_msk.plot.bar()\n",
    "sns.barplot(sex_count_msk.index, sex_count_msk.values, palette='OrRd_r') \n",
    "plt.title('Распределение по полу подписчиков паблика \"KudaGo: Москва\"')\n",
    "plt.ylabel('Количество подписчиков', fontsize=12)\n",
    "plt.xlabel('Пол', fontsize=12)\n",
    "plt.xticks(rotation=90) \n",
    "plt.savefig (\"sex_count_msk.png\", dpi=1000)"
   ]
  },
  {
   "cell_type": "code",
   "execution_count": 455,
   "metadata": {},
   "outputs": [
    {
     "data": {
      "image/png": "[encoded data removed]",
      "text/plain": [
       "<Figure size 720x360 with 1 Axes>"
      ]
     },
     "metadata": {
      "needs_background": "light"
     },
     "output_type": "display_data"
    }
   ],
   "source": [
    "# Посмотрим распределение подписчиков \"KudaGo: Санкт-Петербург\" по полу\n",
    "\n",
    "plt.figure(figsize=(10, 5))\n",
    "sex_count_spb  = df_spb['sex'].value_counts().drop('-') \n",
    "sex_count_spb.plot.bar()\n",
    "sns.barplot(sex_count_spb.index, sex_count_spb.values, palette='Blues_r') \n",
    "plt.title('Распределение по полу подписчиков \"KudaGo: Санкт-Петербург\"')\n",
    "plt.ylabel('Количество подписчиков', fontsize=12)\n",
    "plt.xlabel('Пол', fontsize=12)\n",
    "plt.xticks(rotation=90) \n",
    "plt.savefig (\"sex_count_spb.png\", dpi=1000)"
   ]
  },
  {
   "cell_type": "code",
   "execution_count": 177,
   "metadata": {},
   "outputs": [
    {
     "data": {
      "image/png": "[encoded data removed]",
      "text/plain": [
       "<Figure size 720x360 with 1 Axes>"
      ]
     },
     "metadata": {
      "needs_background": "light"
     },
     "output_type": "display_data"
    }
   ],
   "source": [
    "# Посмотрим, из каких городов подписчики паблика \"KudaGo: Москва\"\n",
    "plt.figure(figsize=(10, 5))\n",
    "city_count_msk  = df_msk['city'].value_counts().drop('-') \n",
    "city_count_msk = city_count_msk[:10]\n",
    "city_count_msk.plot.bar()\n",
    "sns.barplot(city_count_msk.index, city_count_msk.values, palette='OrRd_r') \n",
    "plt.title('Города проживания подписчиков паблика \"KudaGo: Москва\"')\n",
    "plt.ylabel('Количество подписчиков', fontsize=12)\n",
    "plt.xlabel('Город', fontsize=12)\n",
    "plt.xticks(rotation=90) \n",
    "plt.savefig (\"city_count_msk.png\", dpi=1000)"
   ]
  },
  {
   "cell_type": "code",
   "execution_count": 178,
   "metadata": {},
   "outputs": [
    {
     "data": {
      "image/png": "[encoded data removed]",
      "text/plain": [
       "<Figure size 720x360 with 1 Axes>"
      ]
     },
     "metadata": {
      "needs_background": "light"
     },
     "output_type": "display_data"
    }
   ],
   "source": [
    "# Посмотрим, из каких городов подписчики паблика \"KudaGo: Санкт-Петербург\"\n",
    "plt.figure(figsize=(10, 5))\n",
    "city_count_spb  = df_spb['city'].value_counts().drop('-') \n",
    "city_count_spb = city_count_spb[:10]\n",
    "city_count_spb.plot.bar()\n",
    "sns.barplot(city_count_spb.index, city_count_spb.values, palette='Blues_r') \n",
    "plt.title('Города проживания подписчиков паблика \"KudaGo: Санкт-Петербург\"')\n",
    "plt.ylabel('Количество подписчиков', fontsize=12)\n",
    "plt.xlabel('Город', fontsize=12)\n",
    "plt.xticks(rotation=90) \n",
    "plt.savefig (\"city_count_spb.png\", dpi=1000)"
   ]
  },
  {
   "cell_type": "code",
   "execution_count": 67,
   "metadata": {},
   "outputs": [],
   "source": [
    "# Посмотрим, сколько общих участников и из каких они городов\n",
    "\n",
    "with open (\"saved_members_msk.tsv\", 'r', encoding='utf-8') as f:\n",
    "    members_msk_1 = f.read().split(\"\\n\")\n",
    "\n",
    "with open (\"saved_members_spb.tsv\", 'r', encoding='utf-8') as f:\n",
    "    members_spb_1 = f.read().split(\"\\n\")"
   ]
  },
  {
   "cell_type": "code",
   "execution_count": 69,
   "metadata": {},
   "outputs": [],
   "source": [
    "members_msk_1 = set (members_msk_1)\n",
    "members_spb_1 = set (members_spb_1)"
   ]
  },
  {
   "cell_type": "code",
   "execution_count": 70,
   "metadata": {},
   "outputs": [],
   "source": [
    "intersected_members = members_msk_1.intersection (members_spb_1)"
   ]
  },
  {
   "cell_type": "code",
   "execution_count": 71,
   "metadata": {},
   "outputs": [
    {
     "data": {
      "text/plain": [
       "54692"
      ]
     },
     "execution_count": 71,
     "metadata": {},
     "output_type": "execute_result"
    }
   ],
   "source": [
    "len (intersected_members)"
   ]
  },
  {
   "cell_type": "code",
   "execution_count": 72,
   "metadata": {},
   "outputs": [],
   "source": [
    "with open (\"intersected.tsv\", \"w\", encoding= 'utf-8') as w:\n",
    "    for i in intersected_members:\n",
    "        w.write (i+\"\\n\")"
   ]
  },
  {
   "cell_type": "code",
   "execution_count": 73,
   "metadata": {},
   "outputs": [],
   "source": [
    "df_inter = pd.read_csv(\"intersected.tsv\", sep=\"\\t\", names=[\"id\", \"name\", \"surname\", \"sex\", \"birth\", \"city\", \"country\"])"
   ]
  },
  {
   "cell_type": "code",
   "execution_count": 181,
   "metadata": {},
   "outputs": [
    {
     "data": {
      "image/png": "[encoded data removed]",
      "text/plain": [
       "<Figure size 432x288 with 1 Axes>"
      ]
     },
     "metadata": {
      "needs_background": "light"
     },
     "output_type": "display_data"
    }
   ],
   "source": [
    "city_count_inter  = df_inter['city'].value_counts().drop('-') \"-\"\n",
    "city_count_inter = city_count_inter[:10]\n",
    "city_count_inter.plot.bar()\n",
    "sns.barplot(city_count_inter.index, city_count_inter.values, palette='OrRd_r') \n",
    "plt.title('Города проживания общих подписчиков')\n",
    "plt.ylabel('Количество подписчиков', fontsize=12)\n",
    "plt.xlabel('Город', fontsize=12)\n",
    "plt.xticks(rotation=90) \n",
    "plt.savefig (\"city_count_inter.png\", dpi=1000)"
   ]
  },
  {
   "cell_type": "code",
   "execution_count": 533,
   "metadata": {},
   "outputs": [],
   "source": [
    "# Выгружаем посты обоих пабликов\n",
    "\n",
    "def get_posts (owner_id):\n",
    "    first = vk_api.wall.get (domain = owner_id, count=100, filter=\"owner\", v=5.124)\n",
    "    data = first[\"items\"]  \n",
    "    count = first[\"count\"] // 100 \n",
    "    for i in range(1, count+1):  \n",
    "        data += vk_api.wall.get(domain = owner_id, v=5.124, filter=\"owner\", count=100, offset=i*100)[\"items\"]\n",
    "        if i == 250:\n",
    "            break\n",
    "    return [i['text'] for i in data]"
   ]
  },
  {
   "cell_type": "code",
   "execution_count": 534,
   "metadata": {},
   "outputs": [],
   "source": [
    "posts_msk = get_posts (\"kudago\")"
   ]
  },
  {
   "cell_type": "code",
   "execution_count": 536,
   "metadata": {},
   "outputs": [],
   "source": [
    "posts_spb = get_posts (\"kudagospb\")"
   ]
  },
  {
   "cell_type": "code",
   "execution_count": 535,
   "metadata": {},
   "outputs": [
    {
     "data": {
      "text/plain": [
       "25100"
      ]
     },
     "execution_count": 535,
     "metadata": {},
     "output_type": "execute_result"
    }
   ],
   "source": [
    "len (posts_msk)"
   ]
  },
  {
   "cell_type": "code",
   "execution_count": 537,
   "metadata": {},
   "outputs": [
    {
     "data": {
      "text/plain": [
       "25100"
      ]
     },
     "execution_count": 537,
     "metadata": {},
     "output_type": "execute_result"
    }
   ],
   "source": [
    "len (posts_spb)"
   ]
  },
  {
   "cell_type": "code",
   "execution_count": 477,
   "metadata": {},
   "outputs": [],
   "source": [
    "# Начинаем обработку и лемматизацию текста постов"
   ]
  },
  {
   "cell_type": "code",
   "execution_count": 595,
   "metadata": {},
   "outputs": [],
   "source": [
    "import re"
   ]
  },
  {
   "cell_type": "code",
   "execution_count": 596,
   "metadata": {},
   "outputs": [],
   "source": [
    "pattern_link = re.compile (r\"[\\S]+[\\.\\/]+[\\S]+\") "
   ]
  },
  {
   "cell_type": "code",
   "execution_count": 597,
   "metadata": {},
   "outputs": [],
   "source": [
    "pattern_mention = re.compile (r\"\\(?\\[.+?\\]\\)?\")"
   ]
  },
  {
   "cell_type": "code",
   "execution_count": 598,
   "metadata": {},
   "outputs": [],
   "source": [
    "def delete_newlines (text):\n",
    "    text = text.replace(\"\\n\", \" \")\n",
    "    return text"
   ]
  },
  {
   "cell_type": "code",
   "execution_count": 599,
   "metadata": {},
   "outputs": [],
   "source": [
    "posts_msk = [delete_newlines(post) for post in posts_msk]\n",
    "posts_spb = [delete_newlines(post) for post in posts_spb]"
   ]
  },
  {
   "cell_type": "code",
   "execution_count": 600,
   "metadata": {},
   "outputs": [
    {
     "name": "stdout",
     "output_type": "stream",
     "text": [
      "['Перед футбольным матчем клубов «Локомотив» и «Урал» 23 ноября зрителей ждет развлекательная программа для всей семьи и выступление Дмитрия Маликова   https://kudago.com/go/v9rzz/', 'Розыгрыш билетов на концерт SunSay 16+  Традиционный согревающий зимний вечер в компании ведущих специалистов по фанк-фьюжну в клубе «16 тонн»!  Подробнее о концерте: https://kudago.com/go/pzymu/  Сегодня премьера клипа на песню «Песня Земли». Это большой проект SunSay совместно с фондом защиты дикой природы WWF о ценности нашей планеты, природы и единства людей. Смотрите клип и принимайте участие в розыгрыше!   Что требуется для участия в конкурсе:  1. Быть подписчиком нашего паблика [club37119411|KudaGo: Москва]  2. Принять участие в опросе и дать правильный ответ!  6 декабря в 16:00 всем участникам опроса придет уведомление о завершении опроса, в комментариях мы огласим правильный ответ. Из тех, кто верно угадал, мы рандомно выберем победителя. Удачи!  #розыгрыш@kudago', '«Ховрино» закроют из-за присоединения новой станции  Пассажиров довезут на автобусах  https://kudago.com/go/bqtwb/', 'Места в Москве, где можно сделать отличные фотографии  https://kudago.com/go/2dxhp/', 'Бесплатные разговорные клубы  https://kudago.com/go/wmecm/', 'Внучка Юрия Визбора и Ады Якушевой представит программу из главных композиций со всех трёх альбомов и бессмертных произведений своих выдающихся бабушки с дедушкой  Для наших подписчиков действует скидка по промокоду VEGASKUDAGO  https://kudago.com/go/ygnkk/', 'Каждый ребёнок любит кататься с горки! А если она ещё и интерактивная, то у ребят складывается впечатление будто они несутся по водопаду вниз, а за ними бежит волна, в которой плещутся рыбки и другие обитатели подводного царства  Подробнее: https://kudago.com/go/jx6cx/', 'В мире литературы: интересные лекции об известных книгах и писателях  https://kudago.com/go/rgne3/', 'Интерактивный Бэби Театр создан специально для малышей. Спектакли проходят в камерном зале и рассчитаны на узкую возрастную категорию, в сюжеты включены игры, а вместо кресел для зрителей — уютные подушки и пледы  https://kudago.com/go/pdsdp/', 'Красочный атмосферный квест-путешествие для весёлой компании. Ваша задача — спасти жителей сказочной страны от обезумевшей Королевы Червей. Помощниками станут любимые герои Льюиса Кэрролла. Вперёд, за Белым Кроликом  https://kudago.com/go/znyvy/']\n"
     ]
    }
   ],
   "source": [
    "print (posts_msk [-10:])"
   ]
  },
  {
   "cell_type": "code",
   "execution_count": 601,
   "metadata": {},
   "outputs": [],
   "source": [
    "def replace_weblinks(text):\n",
    "    return re.sub(pattern_link, \"WEBLINK\", text)"
   ]
  },
  {
   "cell_type": "code",
   "execution_count": 602,
   "metadata": {},
   "outputs": [],
   "source": [
    "posts_msk = [replace_weblinks(post) for post in posts_msk]\n",
    "posts_spb = [replace_weblinks(post) for post in posts_spb]"
   ]
  },
  {
   "cell_type": "code",
   "execution_count": 603,
   "metadata": {},
   "outputs": [
    {
     "name": "stdout",
     "output_type": "stream",
     "text": [
      "['Перед футбольным матчем клубов «Локомотив» и «Урал» 23 ноября зрителей ждет развлекательная программа для всей семьи и выступление Дмитрия Маликова   WEBLINK', 'Розыгрыш билетов на концерт SunSay 16+  Традиционный согревающий зимний вечер в компании ведущих специалистов по фанк-фьюжну в клубе «16 тонн»!  Подробнее о концерте: WEBLINK  Сегодня премьера клипа на песню «Песня Земли». Это большой проект SunSay совместно с фондом защиты дикой природы WWF о ценности нашей планеты, природы и единства людей. Смотрите клип и принимайте участие в розыгрыше!   Что требуется для участия в конкурсе:  1. Быть подписчиком нашего паблика [club37119411|KudaGo: Москва]  2. Принять участие в опросе и дать правильный ответ!  6 декабря в 16:00 всем участникам опроса придет уведомление о завершении опроса, в комментариях мы огласим правильный ответ. Из тех, кто верно угадал, мы рандомно выберем победителя. Удачи!  #розыгрыш@kudago', '«Ховрино» закроют из-за присоединения новой станции  Пассажиров довезут на автобусах  WEBLINK', 'Места в Москве, где можно сделать отличные фотографии  WEBLINK', 'Бесплатные разговорные клубы  WEBLINK', 'Внучка Юрия Визбора и Ады Якушевой представит программу из главных композиций со всех трёх альбомов и бессмертных произведений своих выдающихся бабушки с дедушкой  Для наших подписчиков действует скидка по промокоду VEGASKUDAGO  WEBLINK', 'Каждый ребёнок любит кататься с горки! А если она ещё и интерактивная, то у ребят складывается впечатление будто они несутся по водопаду вниз, а за ними бежит волна, в которой плещутся рыбки и другие обитатели подводного царства  Подробнее: WEBLINK', 'В мире литературы: интересные лекции об известных книгах и писателях  WEBLINK', 'Интерактивный Бэби Театр создан специально для малышей. Спектакли проходят в камерном зале и рассчитаны на узкую возрастную категорию, в сюжеты включены игры, а вместо кресел для зрителей — уютные подушки и пледы  WEBLINK', 'Красочный атмосферный квест-путешествие для весёлой компании. Ваша задача — спасти жителей сказочной страны от обезумевшей Королевы Червей. Помощниками станут любимые герои Льюиса Кэрролла. Вперёд, за Белым Кроликом  WEBLINK']\n"
     ]
    }
   ],
   "source": [
    "print (posts_msk [-10:])"
   ]
  },
  {
   "cell_type": "code",
   "execution_count": 604,
   "metadata": {},
   "outputs": [],
   "source": [
    "def replace_mentions(text):\n",
    "    return re.sub(pattern_mention, \"MENTION\", text)"
   ]
  },
  {
   "cell_type": "code",
   "execution_count": 605,
   "metadata": {},
   "outputs": [],
   "source": [
    "posts_msk = [replace_mentions(post) for post in posts_msk]\n",
    "posts_spb = [replace_mentions(post) for post in posts_spb]"
   ]
  },
  {
   "cell_type": "code",
   "execution_count": 606,
   "metadata": {},
   "outputs": [
    {
     "name": "stdout",
     "output_type": "stream",
     "text": [
      "['Перед футбольным матчем клубов «Локомотив» и «Урал» 23 ноября зрителей ждет развлекательная программа для всей семьи и выступление Дмитрия Маликова   WEBLINK', 'Розыгрыш билетов на концерт SunSay 16+  Традиционный согревающий зимний вечер в компании ведущих специалистов по фанк-фьюжну в клубе «16 тонн»!  Подробнее о концерте: WEBLINK  Сегодня премьера клипа на песню «Песня Земли». Это большой проект SunSay совместно с фондом защиты дикой природы WWF о ценности нашей планеты, природы и единства людей. Смотрите клип и принимайте участие в розыгрыше!   Что требуется для участия в конкурсе:  1. Быть подписчиком нашего паблика MENTION  2. Принять участие в опросе и дать правильный ответ!  6 декабря в 16:00 всем участникам опроса придет уведомление о завершении опроса, в комментариях мы огласим правильный ответ. Из тех, кто верно угадал, мы рандомно выберем победителя. Удачи!  #розыгрыш@kudago', '«Ховрино» закроют из-за присоединения новой станции  Пассажиров довезут на автобусах  WEBLINK', 'Места в Москве, где можно сделать отличные фотографии  WEBLINK', 'Бесплатные разговорные клубы  WEBLINK', 'Внучка Юрия Визбора и Ады Якушевой представит программу из главных композиций со всех трёх альбомов и бессмертных произведений своих выдающихся бабушки с дедушкой  Для наших подписчиков действует скидка по промокоду VEGASKUDAGO  WEBLINK', 'Каждый ребёнок любит кататься с горки! А если она ещё и интерактивная, то у ребят складывается впечатление будто они несутся по водопаду вниз, а за ними бежит волна, в которой плещутся рыбки и другие обитатели подводного царства  Подробнее: WEBLINK', 'В мире литературы: интересные лекции об известных книгах и писателях  WEBLINK', 'Интерактивный Бэби Театр создан специально для малышей. Спектакли проходят в камерном зале и рассчитаны на узкую возрастную категорию, в сюжеты включены игры, а вместо кресел для зрителей — уютные подушки и пледы  WEBLINK', 'Красочный атмосферный квест-путешествие для весёлой компании. Ваша задача — спасти жителей сказочной страны от обезумевшей Королевы Червей. Помощниками станут любимые герои Льюиса Кэрролла. Вперёд, за Белым Кроликом  WEBLINK']\n"
     ]
    }
   ],
   "source": [
    "print (posts_msk [-10:])"
   ]
  },
  {
   "cell_type": "code",
   "execution_count": 607,
   "metadata": {},
   "outputs": [],
   "source": [
    "with open (\"posts_msk.txt\", 'w', encoding=\"utf-8\") as f:\n",
    "    for post in posts_msk:\n",
    "        f.write (post+\"\\n\")"
   ]
  },
  {
   "cell_type": "code",
   "execution_count": 608,
   "metadata": {},
   "outputs": [],
   "source": [
    "with open (\"posts_spb.txt\", 'w', encoding=\"utf-8\") as f:\n",
    "    for post in posts_spb:\n",
    "        f.write (post+\"\\n\")"
   ]
  },
  {
   "cell_type": "code",
   "execution_count": 609,
   "metadata": {},
   "outputs": [
    {
     "name": "stderr",
     "output_type": "stream",
     "text": [
      "[nltk_data] Downloading package punkt to /Users/mac/nltk_data...\n",
      "[nltk_data]   Package punkt is already up-to-date!\n"
     ]
    },
    {
     "data": {
      "text/plain": [
       "True"
      ]
     },
     "execution_count": 609,
     "metadata": {},
     "output_type": "execute_result"
    }
   ],
   "source": [
    "from nltk.tokenize import word_tokenize\n",
    "from collections import Counter\n",
    "import nltk\n",
    "nltk.download('punkt')"
   ]
  },
  {
   "cell_type": "code",
   "execution_count": 610,
   "metadata": {},
   "outputs": [],
   "source": [
    "with open(\"posts_msk.txt\", 'r', encoding='utf-8') as f:\n",
    "    posts_msk = f.read().lower()"
   ]
  },
  {
   "cell_type": "code",
   "execution_count": 611,
   "metadata": {},
   "outputs": [],
   "source": [
    "with open(\"posts_spb.txt\", 'r', encoding='utf-8') as f:\n",
    "    posts_spb = f.read().lower()"
   ]
  },
  {
   "cell_type": "code",
   "execution_count": 612,
   "metadata": {},
   "outputs": [
    {
     "data": {
      "text/plain": [
       "492830"
      ]
     },
     "execution_count": 612,
     "metadata": {},
     "output_type": "execute_result"
    }
   ],
   "source": [
    "words_msk = word_tokenize(posts_msk)\n",
    "len (words_msk)"
   ]
  },
  {
   "cell_type": "code",
   "execution_count": 613,
   "metadata": {},
   "outputs": [
    {
     "data": {
      "text/plain": [
       "516589"
      ]
     },
     "execution_count": 613,
     "metadata": {},
     "output_type": "execute_result"
    }
   ],
   "source": [
    "words_spb = word_tokenize(posts_spb)\n",
    "len (words_spb)"
   ]
  },
  {
   "cell_type": "code",
   "execution_count": 614,
   "metadata": {},
   "outputs": [
    {
     "data": {
      "text/plain": [
       "414757"
      ]
     },
     "execution_count": 614,
     "metadata": {},
     "output_type": "execute_result"
    }
   ],
   "source": [
    "words_msk = [i for i in words_msk if i.isalnum()]\n",
    "len (words_msk)"
   ]
  },
  {
   "cell_type": "code",
   "execution_count": 615,
   "metadata": {},
   "outputs": [
    {
     "data": {
      "text/plain": [
       "429124"
      ]
     },
     "execution_count": 615,
     "metadata": {},
     "output_type": "execute_result"
    }
   ],
   "source": [
    "words_spb = [i for i in words_spb if i.isalnum()]\n",
    "len (words_spb)"
   ]
  },
  {
   "cell_type": "code",
   "execution_count": 616,
   "metadata": {},
   "outputs": [],
   "source": [
    "with open(\"stopwords_russian.txt\", 'r', encoding=\"utf-8\") as f:\n",
    "    stop_words = f.read().lower().split(\"\\n\")\n",
    "    stop_words = set(stop_words)"
   ]
  },
  {
   "cell_type": "code",
   "execution_count": 617,
   "metadata": {},
   "outputs": [],
   "source": [
    "clean_words_msk = [word for word in words_msk if word not in stop_words]"
   ]
  },
  {
   "cell_type": "code",
   "execution_count": 618,
   "metadata": {},
   "outputs": [],
   "source": [
    "clean_words_spb = [word for word in words_spb if word not in stop_words]"
   ]
  },
  {
   "cell_type": "code",
   "execution_count": 448,
   "metadata": {},
   "outputs": [
    {
     "name": "stdout",
     "output_type": "stream",
     "text": [
      "['экватором', 'октября', 'музыкальные', 'события', 'новой', 'недели', 'weblink', 'учёные', 'определили', 'страшный', 'фильм', 'научной', 'точки', 'зрения', 'weblink', 'усадьба', 'кусково', 'автор', 'фото', 'tanyameetsworld', 'первом', 'концерте', 'карантина', 'хлеб', 'намерены', 'ударить', 'фанатам', 'самыми', 'яркими', 'хитами', 'трёх', 'альбомов', 'weblink', 'учёные', 'pэу', 'имени', 'плexaновa', 'спрогнозировали', 'poccия', 'пройдёт', 'пик', 'начале', 'ноября', 'coronavirus', 'коронавирус', 'искусств', 'уходит', 'онлайн', 'weblink', 'рамках']\n"
     ]
    }
   ],
   "source": [
    "print (clean_words_msk [:50])"
   ]
  },
  {
   "cell_type": "code",
   "execution_count": 449,
   "metadata": {},
   "outputs": [
    {
     "name": "stdout",
     "output_type": "stream",
     "text": [
      "['концерт', 'дельфина', 'рождения', 'анненкирхе', '18', 'событий', 'осеннего', 'экватора', 'weblink', 'памятник', 'бременским', 'музыкантам', 'ресторана', 'карл', 'фридрих', 'крестовском', 'праздничные', 'дни', 'гулять', 'круглосуточно', 'субботу', 'воскресенье', 'ночью', 'петербург', 'рисунках', 'новая', 'масштабная', 'площадка', 'лазертага', 'игр', 'виртуальной', 'реальности', 'играть', 'центре', 'виртуальной', 'реальности', 'взрослые', 'дети', 'первые', 'дни', 'работы', 'игровой', 'арены', 'действует', 'специальный', 'выгодный', 'тариф', 'центр', 'дарит', 'скидку']\n"
     ]
    }
   ],
   "source": [
    "print (clean_words_spb [:50]) "
   ]
  },
  {
   "cell_type": "code",
   "execution_count": 636,
   "metadata": {},
   "outputs": [
    {
     "data": {
      "text/plain": [
       "[('weblink', 20287),\n",
       " ('фото', 2869),\n",
       " ('автор', 2862),\n",
       " ('москве', 2719),\n",
       " ('kudago', 2708),\n",
       " ('москвы', 1680),\n",
       " ('прогород', 777),\n",
       " ('места', 648),\n",
       " ('лучшие', 606),\n",
       " ('афиша', 598),\n",
       " ('пройдёт', 543),\n",
       " ('самые', 524),\n",
       " ('россии', 521),\n",
       " ('фестиваль', 520),\n",
       " ('недели', 510),\n",
       " ('шоу', 502),\n",
       " ('самых', 495),\n",
       " ('лекции', 495),\n",
       " ('главные', 491),\n",
       " ('хотите', 488),\n",
       " ('приходите', 477),\n",
       " ('рассказываем', 448),\n",
       " ('приглашает', 445),\n",
       " ('события', 440),\n",
       " ('бесплатно', 431),\n",
       " ('выставки', 427),\n",
       " ('концерты', 425),\n",
       " ('мест', 421),\n",
       " ('концерт', 416),\n",
       " ('20', 397)]"
      ]
     },
     "execution_count": 636,
     "metadata": {},
     "output_type": "execute_result"
    }
   ],
   "source": [
    "Counter(clean_words_msk).most_common(30)"
   ]
  },
  {
   "cell_type": "code",
   "execution_count": 637,
   "metadata": {},
   "outputs": [
    {
     "data": {
      "text/plain": [
       "[('weblink', 17455),\n",
       " ('kudagospb', 2358),\n",
       " ('петербурге', 2315),\n",
       " ('петербурга', 1552),\n",
       " ('рассказываем', 943),\n",
       " ('фото', 908),\n",
       " ('стоит', 842),\n",
       " ('пройдёт', 768),\n",
       " ('афиша', 760),\n",
       " ('петербург', 757),\n",
       " ('фестиваль', 656),\n",
       " ('места', 554),\n",
       " ('самые', 502),\n",
       " ('новости', 500),\n",
       " ('недели', 490),\n",
       " ('россии', 484),\n",
       " ('города', 478),\n",
       " ('хотите', 463),\n",
       " ('шоу', 461),\n",
       " ('лучшие', 444),\n",
       " ('самых', 415),\n",
       " ('события', 402),\n",
       " ('сходить', 393),\n",
       " ('kudago', 390),\n",
       " ('выходные', 389),\n",
       " ('билеты', 387),\n",
       " ('выставки', 387),\n",
       " ('выходных', 380),\n",
       " ('центре', 374),\n",
       " ('20', 367)]"
      ]
     },
     "execution_count": 637,
     "metadata": {},
     "output_type": "execute_result"
    }
   ],
   "source": [
    "Counter(clean_words_spb).most_common(30)"
   ]
  },
  {
   "cell_type": "code",
   "execution_count": 621,
   "metadata": {
    "scrolled": true
   },
   "outputs": [
    {
     "name": "stdout",
     "output_type": "stream",
     "text": [
      "Requirement already satisfied: pymystem3 in /opt/anaconda3/lib/python3.8/site-packages (0.2.0)\n",
      "Requirement already satisfied: requests in /opt/anaconda3/lib/python3.8/site-packages (from pymystem3) (2.24.0)\n",
      "Requirement already satisfied: idna<3,>=2.5 in /opt/anaconda3/lib/python3.8/site-packages (from requests->pymystem3) (2.10)\n",
      "Requirement already satisfied: certifi>=2017.4.17 in /opt/anaconda3/lib/python3.8/site-packages (from requests->pymystem3) (2020.6.20)\n",
      "Requirement already satisfied: urllib3!=1.25.0,!=1.25.1,<1.26,>=1.21.1 in /opt/anaconda3/lib/python3.8/site-packages (from requests->pymystem3) (1.25.9)\n",
      "Requirement already satisfied: chardet<4,>=3.0.2 in /opt/anaconda3/lib/python3.8/site-packages (from requests->pymystem3) (3.0.4)\n"
     ]
    }
   ],
   "source": [
    "!pip install pymystem3\n",
    "from pymystem3 import Mystem\n",
    "def lemmatized_text (text):\n",
    "    m = Mystem ()\n",
    "    lemmas = m.lemmatize(text)\n",
    "    return lemmas[0]"
   ]
  },
  {
   "cell_type": "code",
   "execution_count": 623,
   "metadata": {},
   "outputs": [
    {
     "ename": "KeyboardInterrupt",
     "evalue": "",
     "output_type": "error",
     "traceback": [
      "\u001b[0;31m---------------------------------------------------------------------------\u001b[0m",
      "\u001b[0;31mKeyboardInterrupt\u001b[0m                         Traceback (most recent call last)",
      "\u001b[0;32m<ipython-input-623-84529f1feff4>\u001b[0m in \u001b[0;36m<module>\u001b[0;34m\u001b[0m\n\u001b[1;32m      1\u001b[0m \u001b[0mlemmatized_words_msk\u001b[0m \u001b[0;34m=\u001b[0m \u001b[0;34m[\u001b[0m\u001b[0;34m]\u001b[0m\u001b[0;34m\u001b[0m\u001b[0;34m\u001b[0m\u001b[0m\n\u001b[1;32m      2\u001b[0m \u001b[0;32mfor\u001b[0m \u001b[0mword\u001b[0m \u001b[0;32min\u001b[0m \u001b[0mcounted_words_msk\u001b[0m\u001b[0;34m:\u001b[0m\u001b[0;34m\u001b[0m\u001b[0;34m\u001b[0m\u001b[0m\n\u001b[0;32m----> 3\u001b[0;31m     \u001b[0mlemmatized_words_msk\u001b[0m\u001b[0;34m.\u001b[0m\u001b[0mappend\u001b[0m\u001b[0;34m(\u001b[0m\u001b[0mlemmatized_text\u001b[0m \u001b[0;34m(\u001b[0m\u001b[0mword\u001b[0m\u001b[0;34m)\u001b[0m\u001b[0;34m)\u001b[0m\u001b[0;34m\u001b[0m\u001b[0;34m\u001b[0m\u001b[0m\n\u001b[0m",
      "\u001b[0;32m<ipython-input-621-4951d225e3a5>\u001b[0m in \u001b[0;36mlemmatized_text\u001b[0;34m(text)\u001b[0m\n\u001b[1;32m      3\u001b[0m \u001b[0;32mdef\u001b[0m \u001b[0mlemmatized_text\u001b[0m \u001b[0;34m(\u001b[0m\u001b[0mtext\u001b[0m\u001b[0;34m)\u001b[0m\u001b[0;34m:\u001b[0m\u001b[0;34m\u001b[0m\u001b[0;34m\u001b[0m\u001b[0m\n\u001b[1;32m      4\u001b[0m     \u001b[0mm\u001b[0m \u001b[0;34m=\u001b[0m \u001b[0mMystem\u001b[0m \u001b[0;34m(\u001b[0m\u001b[0;34m)\u001b[0m\u001b[0;34m\u001b[0m\u001b[0;34m\u001b[0m\u001b[0m\n\u001b[0;32m----> 5\u001b[0;31m     \u001b[0mlemmas\u001b[0m \u001b[0;34m=\u001b[0m \u001b[0mm\u001b[0m\u001b[0;34m.\u001b[0m\u001b[0mlemmatize\u001b[0m\u001b[0;34m(\u001b[0m\u001b[0mtext\u001b[0m\u001b[0;34m)\u001b[0m\u001b[0;34m\u001b[0m\u001b[0;34m\u001b[0m\u001b[0m\n\u001b[0m\u001b[1;32m      6\u001b[0m     \u001b[0;32mreturn\u001b[0m \u001b[0mlemmas\u001b[0m\u001b[0;34m[\u001b[0m\u001b[0;36m0\u001b[0m\u001b[0;34m]\u001b[0m\u001b[0;34m\u001b[0m\u001b[0;34m\u001b[0m\u001b[0m\n",
      "\u001b[0;32m/opt/anaconda3/lib/python3.8/site-packages/pymystem3/mystem.py\u001b[0m in \u001b[0;36mlemmatize\u001b[0;34m(self, text)\u001b[0m\n\u001b[1;32m    263\u001b[0m         \u001b[0mneed_encode\u001b[0m \u001b[0;34m=\u001b[0m \u001b[0;34m(\u001b[0m\u001b[0msys\u001b[0m\u001b[0;34m.\u001b[0m\u001b[0mversion_info\u001b[0m\u001b[0;34m[\u001b[0m\u001b[0;36m0\u001b[0m\u001b[0;34m]\u001b[0m \u001b[0;34m<\u001b[0m \u001b[0;36m3\u001b[0m \u001b[0;32mand\u001b[0m \u001b[0misinstance\u001b[0m\u001b[0;34m(\u001b[0m\u001b[0mtext\u001b[0m\u001b[0;34m,\u001b[0m \u001b[0mstr\u001b[0m\u001b[0;34m)\u001b[0m\u001b[0;34m)\u001b[0m\u001b[0;34m\u001b[0m\u001b[0;34m\u001b[0m\u001b[0m\n\u001b[1;32m    264\u001b[0m \u001b[0;34m\u001b[0m\u001b[0m\n\u001b[0;32m--> 265\u001b[0;31m         \u001b[0minfos\u001b[0m \u001b[0;34m=\u001b[0m \u001b[0mself\u001b[0m\u001b[0;34m.\u001b[0m\u001b[0manalyze\u001b[0m\u001b[0;34m(\u001b[0m\u001b[0mtext\u001b[0m\u001b[0;34m)\u001b[0m\u001b[0;34m\u001b[0m\u001b[0;34m\u001b[0m\u001b[0m\n\u001b[0m\u001b[1;32m    266\u001b[0m         \u001b[0mlemmas\u001b[0m \u001b[0;34m=\u001b[0m \u001b[0mlist\u001b[0m\u001b[0;34m(\u001b[0m\u001b[0mfilter\u001b[0m\u001b[0;34m(\u001b[0m\u001b[0;32mNone\u001b[0m\u001b[0;34m,\u001b[0m \u001b[0mmap\u001b[0m\u001b[0;34m(\u001b[0m\u001b[0mself\u001b[0m\u001b[0;34m.\u001b[0m\u001b[0m_get_lemma\u001b[0m\u001b[0;34m,\u001b[0m \u001b[0minfos\u001b[0m\u001b[0;34m)\u001b[0m\u001b[0;34m)\u001b[0m\u001b[0;34m)\u001b[0m\u001b[0;34m\u001b[0m\u001b[0;34m\u001b[0m\u001b[0m\n\u001b[1;32m    267\u001b[0m \u001b[0;34m\u001b[0m\u001b[0m\n",
      "\u001b[0;32m/opt/anaconda3/lib/python3.8/site-packages/pymystem3/mystem.py\u001b[0m in \u001b[0;36manalyze\u001b[0;34m(self, text)\u001b[0m\n\u001b[1;32m    248\u001b[0m         \u001b[0mresult\u001b[0m \u001b[0;34m=\u001b[0m \u001b[0;34m[\u001b[0m\u001b[0;34m]\u001b[0m\u001b[0;34m\u001b[0m\u001b[0;34m\u001b[0m\u001b[0m\n\u001b[1;32m    249\u001b[0m         \u001b[0;32mfor\u001b[0m \u001b[0mline\u001b[0m \u001b[0;32min\u001b[0m \u001b[0mtext\u001b[0m\u001b[0;34m.\u001b[0m\u001b[0msplitlines\u001b[0m\u001b[0;34m(\u001b[0m\u001b[0;34m)\u001b[0m\u001b[0;34m:\u001b[0m\u001b[0;34m\u001b[0m\u001b[0;34m\u001b[0m\u001b[0m\n\u001b[0;32m--> 250\u001b[0;31m             \u001b[0mresult\u001b[0m\u001b[0;34m.\u001b[0m\u001b[0mextend\u001b[0m\u001b[0;34m(\u001b[0m\u001b[0mself\u001b[0m\u001b[0;34m.\u001b[0m\u001b[0m_analyze_impl\u001b[0m\u001b[0;34m(\u001b[0m\u001b[0mline\u001b[0m\u001b[0;34m)\u001b[0m\u001b[0;34m)\u001b[0m\u001b[0;34m\u001b[0m\u001b[0;34m\u001b[0m\u001b[0m\n\u001b[0m\u001b[1;32m    251\u001b[0m         \u001b[0;32mreturn\u001b[0m \u001b[0mresult\u001b[0m\u001b[0;34m\u001b[0m\u001b[0;34m\u001b[0m\u001b[0m\n\u001b[1;32m    252\u001b[0m \u001b[0;34m\u001b[0m\u001b[0m\n",
      "\u001b[0;32m/opt/anaconda3/lib/python3.8/site-packages/pymystem3/mystem.py\u001b[0m in \u001b[0;36m_analyze_impl\u001b[0;34m(self, text)\u001b[0m\n\u001b[1;32m    286\u001b[0m             \u001b[0mout\u001b[0m \u001b[0;34m=\u001b[0m \u001b[0;32mNone\u001b[0m\u001b[0;34m\u001b[0m\u001b[0;34m\u001b[0m\u001b[0m\n\u001b[1;32m    287\u001b[0m             \u001b[0mobj\u001b[0m \u001b[0;34m=\u001b[0m \u001b[0;32mNone\u001b[0m\u001b[0;34m\u001b[0m\u001b[0;34m\u001b[0m\u001b[0m\n\u001b[0;32m--> 288\u001b[0;31m             \u001b[0mselect\u001b[0m\u001b[0;34m.\u001b[0m\u001b[0mselect\u001b[0m\u001b[0;34m(\u001b[0m\u001b[0;34m[\u001b[0m\u001b[0mself\u001b[0m\u001b[0;34m.\u001b[0m\u001b[0m_procout_no\u001b[0m\u001b[0;34m]\u001b[0m\u001b[0;34m,\u001b[0m \u001b[0;34m[\u001b[0m\u001b[0;34m]\u001b[0m\u001b[0;34m,\u001b[0m \u001b[0;34m[\u001b[0m\u001b[0;34m]\u001b[0m\u001b[0;34m)\u001b[0m\u001b[0;34m\u001b[0m\u001b[0;34m\u001b[0m\u001b[0m\n\u001b[0m\u001b[1;32m    289\u001b[0m             \u001b[0;32mwhile\u001b[0m \u001b[0;32mTrue\u001b[0m\u001b[0;34m:\u001b[0m\u001b[0;34m\u001b[0m\u001b[0;34m\u001b[0m\u001b[0m\n\u001b[1;32m    290\u001b[0m                 \u001b[0;32mtry\u001b[0m\u001b[0;34m:\u001b[0m\u001b[0;34m\u001b[0m\u001b[0;34m\u001b[0m\u001b[0m\n",
      "\u001b[0;31mKeyboardInterrupt\u001b[0m: "
     ]
    }
   ],
   "source": [
    "lemmatized_words_msk = []\n",
    "for word in clean_words_msk:\n",
    "    lemmatized_words_msk.append(lemmatized_text (word))\n"
   ]
  },
  {
   "cell_type": "code",
   "execution_count": null,
   "metadata": {},
   "outputs": [],
   "source": [
    "lemmatized_words_spb = []\n",
    "for word in clean_words_spb:\n",
    "    lemmatized_words_spb.append(lemmatized_text (word))"
   ]
  },
  {
   "cell_type": "code",
   "execution_count": 255,
   "metadata": {},
   "outputs": [],
   "source": [
    "lemmatized_words_msk = set (lemmatized_words_msk)\n",
    "lemmatized_words_msk\n",
    "with open (\"lemmatized_words_msk.txt\", 'w', encoding=\"utf-8\") as f:\n",
    "    for word in lemmatized_words_msk:\n",
    "        f.write (word +\"\\n\")"
   ]
  },
  {
   "cell_type": "code",
   "execution_count": 256,
   "metadata": {},
   "outputs": [],
   "source": [
    "lemmatized_words_spb = set (lemmatized_words_spb)\n",
    "lemmatized_words_spb\n",
    "with open (\"lemmatized_words_spb.txt\", 'w', encoding=\"utf-8\") as f:\n",
    "    for word in lemmatized_words_spb:\n",
    "        f.write (word +\"\\n\")"
   ]
  },
  {
   "cell_type": "code",
   "execution_count": 258,
   "metadata": {},
   "outputs": [],
   "source": [
    "lemmatized_words_msk.intersection(lemmatized_words_spb)\n",
    "with open (\"lemmatized_words_intersection.txt\", 'w', encoding=\"utf-8\") as f:\n",
    "    for word in lemmatized_words_msk.intersection(lemmatized_words_spb):\n",
    "        f.write (word +\"\\n\")"
   ]
  },
  {
   "cell_type": "code",
   "execution_count": 540,
   "metadata": {},
   "outputs": [
    {
     "name": "stdout",
     "output_type": "stream",
     "text": [
      "Requirement already satisfied: natasha in /opt/anaconda3/lib/python3.8/site-packages (1.3.0)\n",
      "Requirement already satisfied: navec>=0.9.0 in /opt/anaconda3/lib/python3.8/site-packages (from natasha) (0.9.0)\n",
      "Requirement already satisfied: yargy>=0.14.0 in /opt/anaconda3/lib/python3.8/site-packages (from natasha) (0.14.0)\n",
      "Requirement already satisfied: pymorphy2 in /opt/anaconda3/lib/python3.8/site-packages (from natasha) (0.9.1)\n",
      "Requirement already satisfied: razdel>=0.5.0 in /opt/anaconda3/lib/python3.8/site-packages (from natasha) (0.5.0)\n",
      "Requirement already satisfied: ipymarkup>=0.8.0 in /opt/anaconda3/lib/python3.8/site-packages (from natasha) (0.9.0)\n",
      "Requirement already satisfied: slovnet>=0.3.0 in /opt/anaconda3/lib/python3.8/site-packages (from natasha) (0.4.0)\n",
      "Requirement already satisfied: numpy in /opt/anaconda3/lib/python3.8/site-packages (from navec>=0.9.0->natasha) (1.18.5)\n",
      "Requirement already satisfied: pymorphy2-dicts-ru<3.0,>=2.4 in /opt/anaconda3/lib/python3.8/site-packages (from pymorphy2->natasha) (2.4.417127.4579844)\n",
      "Requirement already satisfied: docopt>=0.6 in /opt/anaconda3/lib/python3.8/site-packages (from pymorphy2->natasha) (0.6.2)\n",
      "Requirement already satisfied: dawg-python>=0.7.1 in /opt/anaconda3/lib/python3.8/site-packages (from pymorphy2->natasha) (0.7.2)\n",
      "Requirement already satisfied: intervaltree>=3 in /opt/anaconda3/lib/python3.8/site-packages (from ipymarkup>=0.8.0->natasha) (3.0.2)\n",
      "Requirement already satisfied: sortedcontainers<3.0,>=2.0 in /opt/anaconda3/lib/python3.8/site-packages (from intervaltree>=3->ipymarkup>=0.8.0->natasha) (2.2.2)\n"
     ]
    }
   ],
   "source": [
    "!pip install natasha"
   ]
  },
  {
   "cell_type": "code",
   "execution_count": 541,
   "metadata": {},
   "outputs": [],
   "source": [
    "from natasha import (Segmenter, MorphVocab, NewsEmbedding, \n",
    "NewsMorphTagger, NewsSyntaxParser, NewsNERTagger, PER, NamesExtractor, Doc)"
   ]
  },
  {
   "cell_type": "code",
   "execution_count": 542,
   "metadata": {},
   "outputs": [],
   "source": [
    "segmenter = Segmenter()\n",
    "morph_vocab = MorphVocab()\n",
    "emb = NewsEmbedding()\n",
    "morph_tagger = NewsMorphTagger(emb)\n",
    "syntax_parser = NewsSyntaxParser(emb)\n",
    "ner_tagger = NewsNERTagger(emb)\n",
    "names_extractor = NamesExtractor(morph_vocab)"
   ]
  },
  {
   "cell_type": "code",
   "execution_count": 584,
   "metadata": {},
   "outputs": [],
   "source": [
    "locations_msk = set()\n",
    "persons_msk = set()\n",
    "organizations_msk = set()\n",
    "\n",
    "with open(\"posts_msk.txt\", 'r', encoding=\"utf-8\") as f:\n",
    "    for line in f:\n",
    "        text = line.strip()\n",
    "        \n",
    "        doc = Doc(text)\n",
    "        doc.segment(segmenter)\n",
    "        doc.tag_morph(morph_tagger)\n",
    "        doc.tag_ner(ner_tagger)\n",
    "        \n",
    "        for span in doc.spans:\n",
    "            span.normalize(morph_vocab)\n",
    "        \n",
    "            if span.type == 'LOC':\n",
    "                locations_msk.add(span.normal)\n",
    "            \n",
    "            elif span.type == 'PER':\n",
    "                persons_msk.add(span.normal)\n",
    "            \n",
    "            elif span.type == 'ORG':\n",
    "                organizations_msk.add(span.normal)"
   ]
  },
  {
   "cell_type": "code",
   "execution_count": 585,
   "metadata": {},
   "outputs": [
    {
     "name": "stdout",
     "output_type": "stream",
     "text": [
      "Локации МСК:  282 локации {'Российская империя', 'Дорогомилово', 'Амазонка', 'Бельгия', 'Нижний Новгород', 'Бали', 'Хогвартс-Экспресс', 'Узкое', 'Калязин', 'Архангельск', 'Покровки', 'Старый Арбат', 'Цемгигант', 'Остафьево', 'Путешественникам', 'Арбат', 'WEBLINK', 'Швейцария', 'Луна', 'Арка', 'Зарядье', 'Музеон', 'Южный Урал', 'Соколово-Мещерской', 'Подкопаевский переулок', 'Караоке-клуб', 'Запад', 'Воскресенск', 'Финляндия', 'Якиманская', 'Наска', 'Италия', 'Кремлевская стена', 'Беларусь', 'Троицкое', 'Пилот', 'Коптевской', 'Тверская', 'Куркино ⛩    Новый участок', 'Эмираты', 'Старосадский переулок', 'Камчатка', 'Ильинский пляж', 'Германия', 'Старый', 'Монино', 'Брейтовский район', 'Васильевский остров', 'Серпуховке', 'Белоснежкой', 'Таганский район', 'Частичка Древняя Япония', 'Колымский тракт', 'Можайское водохранилище', 'Пятницкая', 'Измайлово', 'Восток', 'Таганско-Краснопресненской', 'Лондон', 'Подробности', 'Строгино', 'Никола-Ленивец', 'Хамовники', 'Патриот', 'Фили', 'Россияне', 'Вечерняя Москва', 'Большая Никитская', 'Эйфелевая башня', 'Канада', 'Франция', 'Европа', 'Голливуд', 'Охотный ряд', 'Москва-река', 'Серебряный бор', 'Болотный сквер', 'Мавритания', 'Хрустальный замок', 'Раменках', 'Башня-маяк', 'Иосифо-Волоцкий монастырь', 'Рыбинку', 'Бразилия', 'Сингапур', 'Тишинке', 'ВДНХ', 'Российская Империя', 'Польша', 'Рыбинское водохранилище', 'Красная Пресня', 'Кремль', 'Новая Англия', 'Московский регион', 'Школа', 'Житную площадь', 'Великобритания', 'Крымский Мост', 'Египет', 'Олений вал  Автор', 'Архангельском', 'Казанский', 'Санкт-Петербург', 'Чистопрудный', 'Испания', 'Дубай', 'Индия', 'Горький', 'Фрунзенская набережная', 'Лопатинский', 'Россия', 'Перу', 'Нью-Йорк', 'Пушкинская аллея', 'Гастромаркет Балчуг', 'Закат', 'Рейксмузеум', 'Вьетнам', 'Панама', 'Сибирь', 'Рыбинки', 'Урал', 'Ирландия', 'Черногория', 'Северная Ирландия', 'Восскресенский район', 'Отправившись', 'Португалия', 'Алтай', 'Покровский бульвары', 'Техноград', 'Советский Союз', 'Ночной Арбат', 'Коломенское', 'Рим', 'Воскресенский район', 'Петровский парк', 'Париж', 'Чистые пруды', 'Арктическая зона', 'Япония', 'Китай', 'ОАЭ', 'Помпеях', 'Лувр', 'Патриарших', 'Нотр-Дам', 'Башкирия', 'Яузский бульвар', 'Быково', 'Турция', 'Сахаров', 'Калмыкия', 'Рижская', 'Ярославская область', 'Куда', 'Сокольническая', 'Усачевский', 'Триумфальная', 'Колыма', 'Рута', 'Мальдивами', 'Юровской', 'Гоняйте', 'Крымский Вал', 'Царицыно', 'Добрынинская', 'Кипр', 'Москва-реку', 'Кутузовский проспект', 'Истра', 'Сокольниках', 'Парк', 'Чад', 'Чистопрудный Бульвар', 'Джерси', 'Танзания', 'Вднх', 'Лукоморья', 'Мексика', 'Подмосковье', 'Патриаршие пруды', 'Косино', 'Волосов овраг', 'Красная площадь', 'Америка', 'Памирский тракт', 'Пятницкой', 'Аквапарке', 'Персеиды', 'Чтобы', 'Черное море', 'Подробнее', 'Люберцах', 'Христос Спаситель', 'Коронавирус', 'Поклонная гора', 'Токио', 'Арбата', 'Эквадор', 'Дальний Восток', 'Коломна', 'Садовое кольцо', 'Узнаете район', 'Абхазия', 'Восскресенкий район', 'Ярославский', 'Красногвардейские пруды', 'Страна восходящее солнце', 'Арбатско-Покровской', 'США', 'Там', 'РФ', 'Бабой-Ягой', 'Таиланд', 'Аптекарский огород', 'Московская область', 'Черноморское побережье', 'Австралия', 'Херсонес Таврический', 'Комсомольская площадь', 'Рязань', 'Кусково', 'Ростов-на-Дону', 'Фосфоритный', 'Парк Фили', 'Термах', 'Александровский сад', 'Северное Бутово', 'ЮАР', 'Новая Третьяковка', 'Моцарт', 'Бодрум', 'Петербург', 'Сандуновские', 'Алтуфьево', 'Монтис', 'Марс', 'Москворецкая набережная', 'Лопатинский рудник', 'Здесь', 'СССР', 'Ситуация', 'Бруклинский мост', 'Новая Москва', 'Мичуринский сад', 'Останкинская', 'Пресню', 'Котельническая набережная', 'Нежинская улица', 'Даламан', 'Грузинский Вал', 'Некрасовская', 'Маяковский', 'Анталья', 'Венеция', 'Знаменское-Садки', 'Неутомимые авангардисты', 'Южная', 'Борисовские пруды', 'Венгрия', 'Куркино', 'Белорусская', 'Нидерландов', 'Тверской WEBLINK', 'Север', 'Фонтан Каменный', 'Республика Саха (Якутия)', 'Новый Свет', 'Москва', 'Крутицкое подворье', 'Царицыно  Автор фото', 'Кратово', 'Усадьба Алтуфьево', 'Старый город', 'Греция', 'Неглинке', 'Путевой дворец', 'Яузского', 'Колорадо', 'Валаам', 'Ливия'}\n"
     ]
    }
   ],
   "source": [
    "print (\"Локации МСК: \", len (locations_msk), \"локации\", locations_msk)"
   ]
  },
  {
   "cell_type": "code",
   "execution_count": 586,
   "metadata": {},
   "outputs": [],
   "source": [
    "with open (\"locations_msk.txt\", 'w', encoding=\"utf-8\") as f:\n",
    "    for word in locations_msk:\n",
    "        f.write (word +\"\\n\")"
   ]
  },
  {
   "cell_type": "code",
   "execution_count": 555,
   "metadata": {},
   "outputs": [
    {
     "name": "stdout",
     "output_type": "stream",
     "text": [
      "Персоны МСК:  329 персон {'Касаткина', 'Мендельсон', 'Дорн', 'Андрей Рублев', 'Михаил Шац', 'Джеймс Макэвой', 'Саксофон', 'Данте', 'Филипп Воронин', 'Мария Сергеева', 'Цай Минлян', 'Место', 'Константин Агальцов', 'Мунк', 'Бах', 'Сестра Рэтчед', 'Дворы-колодцы', 'Александр Листратов', 'Георгий', 'Леонид Гайдай  WEBLINK', 'Владимир Пресняков–младший', 'Ван Гог', 'Мигель', 'Елена Резановой', 'Баканаль дель Ньокко', 'Маппетов', 'Леонид Агутин', 'Маша', 'Ольга Муравиной', 'де Гриньи', 'При', 'Экскурсия', 'Константин Михайлов', 'Поднимайтесь', 'Столыпин', 'Идрак Мирзализаде', 'Сергей Мазаев', 'Дипанкер Хосла', 'Бальбоа', 'Слава Комиссаренко', 'да Кабесон', 'Кристи Пую  WEBLINK', 'Молодежный Экофестиваль', 'Николай Гоголь', 'Руслан Мухтаров  WEBLINK', 'Роберт Паттинсон', 'Иоганн Себастьян Бах  WEBLINK', 'Александр Петров', 'Успейте', 'Евгения Зима', 'Артур Аристакисян', 'Гарри Поттер', 'Дориан Грей', 'Дима Клейман', 'Валерий Меладзе', 'Жан-Поле Сартр', 'Практикуете', 'Врач-иммунолог', 'Игорь Гольденберг', 'Булочка', 'Климт', 'Хеллоуин', 'Митя Фомин', 'Мандельштам', 'Сальвадор Дали & Пабло Пикассо', 'Романов', 'Аркадий Шилклопер', 'Пабло Пикассо', 'Бэнкси', 'Дарии', 'Билли Айлиш', 'Окунитесь', 'Екатерина Рыбас', 'Николай Рерих', 'Александр Раевский', 'Петр и Павел  WEBLINK', 'Тереза Дурова', 'Мессиана', 'Перенеситесь', 'Василий Кандинский', 'Диана Арбенина', 'Степан Ледков', 'Посмотревшие', 'Живопись', 'Лена', 'Анна Винчук', 'Неоновый', 'Оттмар Херлем', 'Михаил Булгаков', 'Сергей Собянин', 'Фотоловушка', 'Режиссер-экспериментатор Семен Александровский', 'Пьяццоллы  WEBLINK', 'Прятки', 'Дарья Воробьева', 'Густав Климт  WEBLINK', 'Жозефину Уолл', 'Поделитесь', 'Кристофер Нолан', 'Лена Попова', 'Аси Волошина', 'Пьяццоллы', 'Астор Пьяццоллы', 'Сергей Лейферкус', 'Юлия Маркова', 'Андрей Стадников', 'Бетховен', 'Мэри Шелли', 'Гоголь', 'Дарий Ставрович', 'Федор Строганов', 'Игорь', 'Эпатажная Клава Кока', 'Нинель', 'Тургенев', 'Денис Липа', 'Антонио Вивальди', 'Дмитрий Позов', 'Сальвадор Дали', 'Татьяна Денисова', 'Манджунатх Мурал', 'Бездомный', 'Петр Столыпин', 'Дмитрий Куклачев', 'Иван Айвазовский', 'Лав Диас', 'Эми Адамс', 'Константин Скворцов', 'Том Круз', 'Петипа', 'Клод Моне', 'Елена Резанова', 'Моцарт', 'Марго Робби', 'Квентин Тарантино', 'Кремер', 'Сергей Валерьевич Белоконь  WEBLINK', 'Виктор Комаров', 'Сергей Есенин', 'Светлана Гусарова', 'Юрий Квятковский', 'Анна Меликян', 'Вольфганг Амадей Моцарт  WEBLINK', 'Прогуляйтесь', 'Джек Лондон', 'Белы Тарра', 'Андрей Колмачевский', 'Савваса Каратзиас', 'Аэроэкспресс', 'Рем Дигга  WEBLINK', 'Andrew Boykov', 'Либерей Иван Грозный', 'Егор Дружинин', 'Хаяо Миядзаки', 'Антон Шастун', 'Пневмослон', 'Вивальди', 'Хон Сан-су  WEBLINK', 'Посмеемся', 'Хаски', 'Иоганн Себастьян Бах', 'Антикинотеатр', 'Ламбада-маркет', 'Признавайтесь', 'Артем Кашехлебов', 'Гагарин', 'Лампе Совместимость', 'Даниэль Сальвадор  WEBLINK', 'Джокер', 'Елена Зенина', 'Владимир Мигачев', 'Василий Кандинский   WEBLINK', 'Повзрослевшая', 'Константин Казначеев', 'Алексей Шевченко', 'Мария Оленева', 'Тхор', 'Арсений Строковский', 'Ирина Линдт', 'Андрей Абакумовы', 'Нолан', 'Жан-Люк Годар', 'Гастромаркет Саларис', 'Жан Эсташ  WEBLINK', 'Александр Фисейский', 'Арсений Попов', 'Даниэль Сальвадор', 'Фудмаркет', 'Алексей Медведев', 'Владимир Павлов', 'Шуфутинского', 'Рита Кальнеяс  WEBLINK', 'Усадьба Виноградово', 'Петр Мазаев', 'Грок  WEBLINK', 'Цой  WEBLINK', 'Подошедшие', 'Сергей Орлов', 'Иван Митин', 'Вольфганг Амадей Моцарт', 'Джон Дэвид Вашингтон', 'Перцовой', 'Пьетро Марчелло  WEBLINK', 'Есенин', 'Франс Халс', 'Баста', 'Карлос Сантос', 'Теслу', 'Йенни Берггрен', 'Свелинка', 'Павел', 'Перекуры', 'Буковски', 'Иван Дыма', 'Леоновский Пруд', 'Андрей Макаревич', 'Гид-руфер', 'Саша Москалец', 'Алена Романенко', 'Алексей Круглов', 'Анри Матисс', 'Мари Краймбрери', 'Победослав', 'Хогвартс', 'Ресторан-винотек', 'Стас Намин', 'Алика Смехова', 'Иван Царева', 'Александр Киселев', 'Ирина Винер-Усманова', 'Клава Кок', 'Иоганн Себастьян', 'Нейромонах Феофан', 'Монеточка', 'Бах  WEBLINK', 'Александр Иванов', 'Anton Square', 'Онлайн-встреча', 'Сергей Бельчиков', 'Стэнли Кубрик', 'Итан Хоук', 'Адам Драйвер', 'Леонид Енгибаров', 'Федор Рюкерот', 'Антон Беляев', 'Папа Ньокки', 'Дмитрий', 'Михаил Касаткин', 'Георгий Победоносец', 'Саввас Каратзиаса  WEBLINK', 'Семен Александровский', 'Саши Воронов', 'Билл', 'Олег Романенко', 'Заневестилась Агафья Тихоновна', 'Азия Шерил Ко  WEBLINK', 'Борис Пастернак', 'Лавкравта', 'Джонни Деппа  WEBLINK', 'Ставрович', 'Шанталь Акерман  WEBLINK', 'Багратион', 'Кандинский', 'Бенедикт Камбербэтч', 'Георгий Саркисян', 'Эль Фаннинг  WEBLINK', 'Павел Бажов', 'Мечтающие', 'Василий Кандинский  WEBLINK', 'Наталья Чеверикина', 'Билан  WEBLINK', 'Эдвард Мунок', 'Алексей Айги', 'Художники-декораторы', 'Воланд', 'Энди Уорхол', 'Марион Котийяр', 'Шеннон Мерфи', 'Екатерина Великая', 'Сергей Матвиенко', 'Иван Митин  WEBLINK', 'Сергей Борисов', 'Ломоносова', 'Ксения Денисова', 'Виталины Варелы', 'Джеймс Бонд', 'Артем Айсагалиев', 'Медведь', 'Ленден', 'Максим Дунаевский', 'Михаил Савкин', 'Рина Гринберг', 'Виктор Луценко', 'Риюти Сакамото  WEBLINK', 'Владимир Соловьев', 'Стивен Номуры Шибле', 'Хоакин Феникс', 'Наталья Калинченко', 'Алиса Гребенщикова', 'Василий III', 'Сальвадор Дали  WEBLINK', 'Виктор Цой', 'Стивен Кинг', 'Саши Кулак', 'Мэрилин Монро', 'Мао Цзэдун', 'Густав Климт', 'Антуан де Сент-Экзюпери', 'Батыржан Тлепбергенов', 'Кайло Рен', 'Росс', 'Барбара Хаммер  WEBLINK', 'Юрий Куклачев', 'Федор Конюхов', 'Гаяне Григорян', 'Карл Фаберже', 'Наталия Лапина', 'Эдди Редмэйна', 'Жозефина Уолл', 'Чарли Чаплин', 'Берлиоз', 'Василев', 'Педру Кошты', 'Автомузей', 'Максим Шугалей', 'Святослав Рыбас', 'Познер', 'Павел Артемьев', 'Владимир Ленин'}\n"
     ]
    }
   ],
   "source": [
    "print (\"Персоны МСК: \", len (persons_msk), \"персон\", persons_msk)"
   ]
  },
  {
   "cell_type": "code",
   "execution_count": 578,
   "metadata": {},
   "outputs": [],
   "source": [
    "with open (\"persons_msk.txt\", 'w', encoding=\"utf-8\") as f:\n",
    "    for word in persons_msk:\n",
    "        f.write (word +\"\\n\")"
   ]
  },
  {
   "cell_type": "code",
   "execution_count": 553,
   "metadata": {},
   "outputs": [
    {
     "name": "stdout",
     "output_type": "stream",
     "text": [
      "Организации МСК: 441 организация {'ВелоДрайв', 'Рондо', 'Мафия', '2Unlimited', 'Музей ВВС', 'Мавзолей Ленин', 'Среди преподаватели', 'Игла', 'Театр на Соборная', 'Росавиация', 'METRO', 'Театр мюзикл', 'Ассоциация любители кошки', 'СТС', 'мхат имя Горький  Героиня', 'мхат имя Горький  WEBLINK', 'Purina', 'ТАНЦЫ', 'Uteens', 'Спорт-Марафон', 'СОVID-19', 'Музей Like Room', 'ТНТ', 'Sisters', 'Театриума', 'Scooter', 'Парк Патриот', 'PANORAMA', 'S7', 'Измайловский Кремль', 'Библиотеки', 'Alpaca Wellbeing Fest', 'Театр кошки Куклачев', 'ВДНХ', 'Wall Street English', 'Музей мертвые куклы', 'Школа', 'Москва-Сити', 'Мультсериал', 'КиноПоиск HD  Подробнее', 'ФАС', 'Thomas Mraz', 'Rolling Stones', 'Fantomas Chateau & Rooftop', 'АртДинамикс', 'тюз', 'Эксмо', 'Кафедральный собор святые Петр и Павел солисты', 'Moreevents  WEBLINK', 'Подмосковный Версаль', 'Посольство', 'Международная Академия KEUNE DESIGN', 'Владимирская школа  WEBLINK', 'Instagram', 'Дептранс', 'МГУ имя WEBLINK', 'Москва Комус Fest', 'А-ля Прима', 'Карабос танцевальная', 'Театр Куклачева', 'Носорожик', 'JUNWEX Москва', 'Новодевичий Монастырь', 'Netflix', 'Pompeya  WEBLINK', 'Ажурный дом  Автор фото: ksarzie', 'Сила ветер', 'The Hatters', 'Сардиния', 'Танцкласс', 'Музей современное искусство «Гараж»', 'Галерея «Современные художники', 'Большой театр', 'Faсеbook', 'FastLife', 'Аквапарк+Термы', 'ВузЭкоФест', 'Шереметьево', 'Буратино-Пиноккио', 'ТРЦ «РИО', 'Всемирная федерация кошки', 'Институт музыка имя Шнитке  WEBLINK', 'Международная Школа Дизайн (IDS)', 'QIWI', 'ЖК Алые Паруса', 'Тинькофф Арена', 'Московский планетарий', 'Московский Комсомолец', 'LITTLE BIG', 'Аптекарский огород', 'Кино Mail. Ru', 'Artstory', 'Modern Fly', 'AliExpress', 'Российская остеопатическая ассоциация', 'Samsung', 'Чувашский театр юный зритель имя Сеспель', 'ADM Raceway', 'АукцЫон', 'NARKOMFIN', 'Арсенал', 'Creative Mornings', 'Show Today', 'Московский театр мюзикл', 'CreativeMornings', 'ФастЛайф', 'Яндекс', 'Дом Книга', 'Кафедральный собор святых Петр и Павел', 'Лефортовский', 'Главная сцена', 'Summer Sound', 'Большой ансамбль', 'Парк Сокольники', 'Zippia', 'Молодежный Синодальный хор', 'Netflix  WEBLINK', 'Сад имя Бауман', 'LES Art Resort', 'Зарядье', 'Октябрь', 'КиноПоиск HD', 'Новодевичий монастырь', 'Звери', 'Arzamas', 'Четыре лапа', 'РГО', 'мхат', 'CreativeMornings Moscow', 'Студия АртДинамикс  WEBLINK', 'Алмазный фонд', 'Кино Хауз', 'Нерюнгринский государственный театр актер и кукла', 'Кафедральный собор святые Петр и Павел распахнет', 'РЖД', 'Вечерняя Москва', 'Лабиринт', 'Папская Базилика Святой Михаил', 'Aglomerat  WEBLINK', 'Рука ВВерх!', 'Воскресение', 'Главclub Green Concert', 'ГИМС', 'Русский музей', 'Ленинградский вокзалы', 'Дворец гимнастика', 'Немецкий университет', 'мид', 'Rotten Tomatoes', 'МГУ', 'Маркет', 'Artplay', 'КиноПоиск', 'Мой район', 'HBO', 'Ночные снайперы', 'Collegium Musicum', 'Кафедральный собор Святые Петр и Павел', 'Храм Владимирская икона Божия Мать  Автор фото: makc_177', 'Roof Place', 'Громыки', 'Флакон', 'Библиотека', 'Нора', 'Минздрав', 'Gore-Tex', 'Взявший кисть', 'Моральный кодекс', 'Мои Документы', 'Гамбринус', 'Камерный оркестр', 'Мумий Тролль', 'Московская школа кино', 'Экспоцентр', 'Виртуозы Петербург', 'Apple', 'Музей автомобильные истории', 'SENSESAY', 'Красноярский драматический театр имя. WEBLINK Пушкин', 'Dabro', 'ЛСП', 'Spotify', 'Зеленый театр', 'По ТВ', 'ARTPLAY', 'VR Gallery', 'Роспотребнадзор', 'NILETTO', 'Уффици', 'Мореон', 'Заповедники', 'Экспедиционный Штаб', 'Level One', 'Kvartal West', 'Brian May', 'STAY', 'Клуб Путешественники', 'Слот', 'Хор имя А. Д. Кожевников', 'Усть-Илимский театр драма и комедия', 'Цветной', 'Бессмертный полок', 'Эпидемия', 'Московский Синодальный хор', 'Северный речной вокзал', 'Третьяковская галерея', 'Montis Bar', 'Украина', 'YouTube-канал', 'ЦПКИО имя. Горький  Дверь', 'Артхив', 'Евроклуб', 'Мураками', 'Sapiens Est', 'Инструментальная капелла', 'Вечерняя Москва🌆', 'Skynails', 'Центральный банк', 'Домодедово', 'Минкульт', 'Владимирская церковь', 'WEBLINK', 'Музей Международный нумизматический клуб', 'Уральские авиалинии', 'Победа', 'Мурлыка', 'Sapiens Est!', 'Паровозное депо', 'Sportules', 'Вездеходер', 'Елисеевский магазин', 'Joki Joya', 'Дом музыка', 'Metahaven', 'Pocc', 'Третьяковская', 'Центр Гамалея', 'Inspiria', 'Столичные работодатели', 'Show Today  WEBLINK', 'Казанский собор', 'Нью-йоркские парикмахерским', '16 тонны', 'Центр имя Гамалея', 'Московская консерватория приглашающий', 'Минпросвещения', 'Русское Радио', 'АТОР', 'Майер саунд', 'Кафедральный собор Петр и Павел  WEBLINK', 'ЗИЛ', \"Ансамбль 4'33\", 'ВЦИОМ', 'Юна', 'Montis Bar  WEBLINK', 'Сказка', 'Термы', 'Noba', 'Кафедральный собор Петр и Павел', 'Гараж', 'Эксмо-АСТ', 'Детские деревни — SOS', 'IМDb', 'Fun Fam', 'Китай-город  WEBLINK', 'Музей романтика', 'Парк Коломенское', 'Rhythm & Blues Café', 'Чиж & Co', 'Динамо', 'Grammy’s', 'Linza. io', 'Музей современная фортификация', 'ТОП-12', 'Красный Октябрь', 'ТОП-10', 'Культурный центр', 'Музей современная история', 'Хоккейная школа «АПИА', 'Музеи', 'ТРЦ «Нора', 'Всемирный фонд дикая природа', 'М-1 Online', 'Академия музыка имя Гнесиных', 'National Geographic', 'Кафедральный Собор Непорочного Зачатие Пресвятая Дева Мария  Автор фото: zarinnel', 'eBay', 'Доброшрифт', 'Пушкинский музей', 'МОТИВ CREW', 'БЦ Оружейный  Автор фото: genruble', 'HammAli & Navai', 'Люмьер-холл', 'EducationUSA Russia', 'Adrenaline Stadium  WEBLINK', 'Поместье-парк', 'Тишинка', 'Государственный музей Пушкин', 'Российская академия науки', 'мегафон', 'Санкт-Петербургская школа красота', 'Omega Rooftop', 'ExitGames', 'Видеостудия 360 VISION', 'Ночлежка', 'Око', 'Inspiria  WEBLINK', 'Манеж', 'COVID-19', 'КВЦ «Сокольники»', 'KudaGo', 'Марсель', 'АПИА Арена', 'Microsoft', 'Collegium Musicum  WEBLINK', 'Люмьер-Холл', 'Музей «PROЛюбовь', 'Театр «Буфф', 'Поселок Художников', 'Лужников', 'ВКонтакте', 'Lookport', 'Anton Square', 'Ботанический сад', 'Со', 'Машина время', 'Хлеб', 'City Pub Crawl', 'IKEA', 'Храм Христос спаситель', 'Торгово-развлекательный центр «ВЕСНА!', 'Live & Drive', 'Музеон', 'Папа Ньокки', 'ТТК', 'PINKMAN', 'ProЛюбовь', 'Либерти', 'Музей печатная графика', 'Гребнево', 'Аэрофлот', 'Сообщения', 'Элиты', 'Департамент предпринимательство и инновационное развитие город', 'Garage Screen', 'ТРЦ «Саларис', 'Artemiev', 'Венская опера', 'Celtica', 'ЛЮТИК', 'Tripster', 'Мессенджер', 'Фонд защита национальные ценности', 'Центр «Юна»', 'ВОЗ', 'Krec', 'Мореоне', 'Звезды StandUp Show ТНТ', 'Секрет', 'Filin Good Bar', 'The Beatles', 'Ace of Base', 'Сказочный Измайловский Кремль', 'Министерство иностранные дела', 'PROЛюбовь', 'Международный союз кошки', 'MTV Россия', 'Японская национальная туристическая организация', '2GIS', 'Artplay  WEBLINK', 'Чайка', 'Disney+', 'Центральный Детский Магазин на Лубянка', 'ЯКапитан', 'Моторы Октябрь', 'Зеркальный лабиринт', 'Уютная Москва', 'Gazgolder', 'Известия Холл', 'Google Карта', 'Аквамарин', 'КидБург', 'Musical Wave School', 'Музеи Московский Кремль', 'Сокольническая', 'СК «Лужники»', 'Музей-усадьба', 'Бельканто', 'Facebook', 'Big Creative', 'Zivert', 'РАН', 'Парк Искусств', 'Московская подземка', 'Аквапарк', 'Quentin Tarantino', 'FAN', 'CANVAS', 'Детский город', 'Нервы', 'ТехПоддержки', 'Школа программисты', 'Студия АртДинамикс', 'BlueJeans', 'Камерный', 'HD', 'Гидрометцентр', 'МОТИВ', 'Status Quo', 'Импровизация', 'Кусково', 'Сколково', 'Gipsy', 'Utair', 'VSPLAVE', 'Третьяковка', 'Nike', 'Ассоциация фелинологических Клубы', 'Voce Anima  WEBLINK', 'Новая Третьяковка', 'ЛитРес', '7Б', 'Liberty', 'Московские диджеи', 'Утренняя Москва', 'Оружейная палата', 'Pashido', 'Therr Maitz', 'Disney', \"Grammy's\", 'АПИА', 'Третьяковки', 'Парк Горький', 'Александринский театр', 'Радио RECORD', 'Хип-хоп', 'IDIOT', 'Танцы Минус', 'Patreon', 'Московский метрополитен', 'YouTube'}\n"
     ]
    }
   ],
   "source": [
    "print (\"Организации МСК:\", len (organizations_msk), \"организация\", organizations_msk)"
   ]
  },
  {
   "cell_type": "code",
   "execution_count": 579,
   "metadata": {},
   "outputs": [],
   "source": [
    "with open (\"organizations_msk.txt\", 'w', encoding=\"utf-8\") as f:\n",
    "    for word in organizations_msk:\n",
    "        f.write (word +\"\\n\")"
   ]
  },
  {
   "cell_type": "code",
   "execution_count": 556,
   "metadata": {},
   "outputs": [],
   "source": [
    "locations_spb = set()\n",
    "persons_spb = set()\n",
    "organizations_spb = set()\n",
    "\n",
    "with open(\"posts_spb.txt\", 'r', encoding=\"utf-8\") as f:\n",
    "    for line in f:\n",
    "        text = line.strip()\n",
    "        \n",
    "        doc = Doc(text)\n",
    "        doc.segment(segmenter)\n",
    "        doc.tag_morph(morph_tagger)\n",
    "        doc.tag_ner(ner_tagger)\n",
    "        \n",
    "        for span in doc.spans:\n",
    "            span.normalize(morph_vocab)\n",
    "        \n",
    "            if span.type == 'LOC':\n",
    "                locations_spb.add(span.normal)\n",
    "            \n",
    "            elif span.type == 'PER':\n",
    "                persons_spb.add(span.normal)\n",
    "            \n",
    "            elif span.type == 'ORG':\n",
    "                organizations_spb.add(span.normal)"
   ]
  },
  {
   "cell_type": "code",
   "execution_count": 557,
   "metadata": {},
   "outputs": [
    {
     "name": "stdout",
     "output_type": "stream",
     "text": [
      "Локации СПБ:  414 {'Салоны Петербург', 'Выборгское шоссе', 'Нева', 'Тосненский водопад', 'Петергоф  Там', 'Ленобласть', 'Октябрьская набережная', 'Лужская губа', 'Смольный', 'Большеохтинский', 'Луна', 'Осень', 'Запад', 'Финляндия', 'Дели', 'Александровский Парк', 'Краснодар', 'Большой Казачий', 'София Коппола', 'Ботанический Сад', 'Зазеркалье Петербург', 'Азия', 'Инсбрук', 'Латвия', 'Трехчасовая автобусно-пешеходная', 'Байкал', 'П', 'Английская набережная', 'Вантовый мост', 'Гренландия', 'Франция', 'Петровская пристань', 'Соединенные Штаты Америка', 'Гатчинский дворец', 'Сескар', 'Парижская Богоматерь', 'Ираклион', 'Елагин остров', 'Ладожское озеро', 'Литейный округ', 'Водопады', 'Малая Конюшенная улица', 'Садовая  Дизайн-маркет', 'Кисловодск', 'Василеостровский', 'Прага', 'Египет', 'Лебяжьей канавке', 'Петропавловск-Камчатский', 'Санкт-Петербург', 'Заячий остров', 'Кавказская губерния', 'Тосненский район', 'Индия', 'Петровский Фарватер', 'Финский залив', 'Всеволожский', 'Лахта', 'Черногория', 'Маршал Тухачевский', 'Северная столица', 'Афины', 'Делящиеся', 'Невский район', 'Блогер-урбанист', 'Марокко', 'Рощино', 'Санкт-Петребурга', 'Санкт-Петербург  Петергоф', 'Царское Село', 'Турция', 'Гостиный двор', 'Копорская Крепость', 'Земля', 'Ульяновка', 'Моховая улица', 'Сенная 🙃', 'Тосно', 'Вокруг', 'Радоновое озеро', 'Персеиды', 'Токио', 'Приморье', 'Садовая', 'Пионерская площадь', 'Пусан', 'Михайловский замок', 'Менделеев', 'Приозерск', 'Корея', 'Лихтенштейн', 'Долгое', 'Большое Завидово', 'Там', 'Ладога', 'Новая Ладога', 'Херсонес Таврический', 'Никольский собор', 'Шаверма', 'Предпочитаете', 'Ботаническому сад', 'Хеллоуин', 'Московская', 'Пристрельная Башня', 'Марс', 'Выборг', 'Дворцовый мост', 'Мертвые', 'СНГ', 'Крестовский', 'Юго-Восточная Азия', 'Инстаграм', 'Венгрия', 'Кронштадтский', 'Открывающиеся', 'Медиацентр', 'Автово', 'Москва', 'Валаам', 'Хельсинки', 'Велана', 'Нижний Новгород', 'Бали', 'Восстание', 'Невский', 'Репин', 'Приморский парк', 'Монрепо', 'Ниагарский водопад', 'Таллин', 'Михайловская Дача', 'Тихий океан', 'Красногорск', 'Казахстан', 'Васильевском', 'Узнавшие район', 'Ахвенкоски', 'Верхний сад', 'Подробности', 'Онежское озеро', 'Россияне', 'Канал Грибоедова', 'Канада', 'Гороховая', 'Александрия', 'Казань', 'Польша', 'Логинула', 'Галактика', 'Светогорск', 'Юнтоловский заказник', 'Великобритания', 'Московский проспект', 'Цюрих', 'Водонапорная', 'Александровский парк', 'Россия', 'Рейксмузеум', 'Пушкин', 'Итальянская улица', 'Панама', 'Людвигштайн', 'Северная Ирландия', 'Рестораны Петербург', 'Ломоносов', 'Гатчина', 'Киргизия', 'Линц', 'Красная Долина', 'Ленполиграфмаш', 'Путиловская', 'Япония', 'Пионерская улица', 'Сортавала', 'Адмиралтейский район', 'Лувр', 'Петрикирхе', 'Суворовский', 'Монастырь', 'Благовещенский мост', 'Конюшенная площадь', 'Иматру', 'Сосновый Бор', 'Ленинградская область', 'Мойки', 'Каннах', 'Цой-художник', 'Кипр', 'Кировско-Выборгской', 'Екатерининский Парк', 'Подробнее', 'Рассматривающиеся', 'Коба', 'Тулум', 'Петроградская сторона', 'Абхазия', 'Крестовском остров', 'Страна восходящее солнце', 'Объединенные Арабские Эмираты', 'Рассказывающие', 'Карелии🍁  Давно', 'РФ', 'Безлюдный', 'Выхино', 'Александровский сад', 'Ростов-на-Дону', 'Чкаловский проспект', 'Диво Остров', 'Бодрум', 'Большой Тосненский водопад', 'Павловска', 'КАД', 'Таврический сад', 'Северные острова', 'Венеция', 'Север', 'Заречный парк', 'Харьков', 'Новая Голландия', 'Милейшие слоники', 'Царское село', 'WEBLINK', 'Дудергофские Высота', 'Санкт-Петербург  Некрополи', 'Победа', 'Центральный район', 'Потайные', 'Красногвардейский район', 'Питер', 'Канал Грибоедов', 'Армения', 'Беларусь', 'Каир', 'Котлин', 'Садовая улица', 'Германия', 'Василеостровский рынок', 'Гуляя', 'Кронштадт', 'Туда', 'Восток', 'Лондон', 'Европа', 'Лисьем Нос', 'Атланта', 'Невская застава', 'Бабы-Яги', 'Аленушка', 'Рускеалу', 'Бразилия', 'Сингапур', 'ЗСД', 'Шлиссельбург', 'Лебяжье', 'Нижне-Свирском заповедник', 'Полюбуйтесь', 'Солнце', 'Нур-Султан', 'Перу', 'Приморский район', 'Обводный канал', 'Западный Котлин', 'Гороховая улица', 'Петровский проспект', 'Ленинград', 'Минск', 'Эльтюбю', 'Неприступные крепость', 'Северный Вал', 'Париж', 'Санкт-Петербург | Питер Онлайн | СПб', 'Апраксин', 'Арктическая зона', 'Гижгит', '5-я Советская улица', 'Староладожская крепость', 'Прекрасный Невский проспект', 'Инженерная улица', 'Северное море', 'Заброшенная дача', 'Любовь', 'На берег', 'Янтарная', 'Белоостров', 'Заставской улица', 'Московская площадь', 'Танзания', 'Медный всадник', 'Андреевский', 'Америка', 'Кавказ', 'Девичьи косы', 'Румыния', 'Южная Европа', 'Пeт', 'Лахтинский', 'Чехия', 'Ilana', 'Каменный', 'Рубинштейн', 'Петербург', 'Ботанический сад Петр Великий', 'Рыночная площадь', 'Северная Пальмира', 'Г', 'Маяковская', 'Колпинский', 'СССР', 'Юго-Западная', 'Малый проспект', 'Соединенных', 'Мурино', 'Республика Саха (Якутия)', 'Ботанический сад', 'Горный парк', 'Южная Корея', 'Лиговский проспект', 'Луг', 'Твердыш', 'Дюны', 'Сытнинская улица', 'Хогвартс-Экспресс', 'Крепостная улица', 'Архангельск', 'Былинный', 'Швейцария', 'Джилы-Су', 'Марсовое поле', 'Новая Одиссея', 'Обуховский Завод', 'Наска', 'Италия', 'Большой проспект', 'Херсонес', 'Линдуловская роща', 'Вырицы', 'Новокрестовская', 'Шепелевский маяк', 'Васильевский остров', 'Пулково', 'Чегемское ущелье', 'Юсуповский дворец', 'Бишкек', 'Большой Гатчинский дворец', 'Грибоедова', 'Фонтанкой', 'Петербургу', 'Смоленское кладбище', 'Василеостровская', 'Мойка', 'Танечкина', 'Ириновка', 'Михайловский сад', 'Дубай', 'Петроградка', 'Нева возвышалась', 'Старая Ладога', 'Салоники', 'Австрия', 'Петроград', 'Инженерная', 'Сочи', 'Петровский парк', 'Адмиралтейские Верфь', 'Прокладываем', 'Китай', 'Литейный проспект', 'Эрарт', 'Фонтанка', 'Невский проспект', 'Новая Застава', 'Ингерманландии', 'Красненькой', 'Большеохтинский мост', 'Петергоф', 'Грузия', 'Петропавловская крепость', 'Гатчину', 'Лахтинский разлив', 'Каменноостровский проспект', 'Кокушкин Мост', 'Шри-Ланки', 'Ленин', 'Павловский парк', 'Актопарк', 'Виби', 'США', 'Безбородко', 'Рускеала', 'Таиланд', 'Австралия', 'Московская область', 'Рязань', 'Нижний', 'Млечный путь', 'Карелия', 'Мальдивы', 'Воскресенская набережная', 'Караванная', 'Зеленогорск', 'Елагина остров', 'Ретро-поезд', 'Дракониды', 'Даламан', 'Приморск', 'Осиновецкий маяк', 'Анталья', 'Апраксина двор', 'Павловск', 'Коломна  WEBLINK', 'Поселок Логи', 'Греция', 'Ливия', 'Калининский район'}\n"
     ]
    }
   ],
   "source": [
    "print (\"Локации СПБ: \", len (locations_spb), \"локаций\", locations_spb)"
   ]
  },
  {
   "cell_type": "code",
   "execution_count": 580,
   "metadata": {},
   "outputs": [],
   "source": [
    "with open (\"locations_spb.txt\", 'w', encoding=\"utf-8\") as f:\n",
    "    for word in locations_spb:\n",
    "        f.write (word +\"\\n\")"
   ]
  },
  {
   "cell_type": "code",
   "execution_count": 558,
   "metadata": {},
   "outputs": [
    {
     "name": "stdout",
     "output_type": "stream",
     "text": [
      "Персоны СПБ:  376 {'Шари', 'Вова Че Морале', 'Ксения Раппопорт', 'Бродский  WEBLINK', 'Джеймс Макэвой', 'Мария Сергеева', 'Владимир Маяковский', 'Рамэн', 'Режиссер-постановщик', 'Трубецких-Нарышкиных', 'Рубинштейн  Прогуляемся', 'Дворы-колодцы', 'Мальбэка', 'Валерий Тодоровский', 'Походный', 'Ван Гог', 'Рассел Джеймс', 'Мигель', 'Александр Ситникова', 'Зажигаем', 'Г. Г. Гильзе фан дер Пальса', 'Арр', 'Мирабеллы Карьянова', 'Меладзе', 'Какушкин', 'Чичен-Ица', 'Олег Белозеров', 'Александр Островский', 'Луи Армстронг', 'Маппетов', 'Леонид Агутин', 'Маша', 'Илья Погребняк', 'Грибоедов', 'Никонов', 'Н. В. Гоголь', 'Сильфиду', 'Сергей Рахманинов', 'Фламанда', 'Девятиметровая', 'При', 'Максим Ильяхов', 'Елисеев', 'Фрау Краузе', 'Марина Смургис', 'Фаберже', 'Сергей Васильев', 'Дмитрий Шостакович  WEBLINK', 'Дисней', 'Владимир Волков', 'Дипанкер Хосла', 'Вася Ложкин', 'Эльбрус', 'Александр Грин', 'Любич', 'Лопухиных-Нарышкиных', 'Хайди Клум', 'Теодорос Терзопулоса', 'Марат', 'Ник', 'Фо', 'Дмитрий Кустанович', 'Федор Брискорн', 'Питер  Влюбляться', 'Анна Ахматова', 'Роберт Паттинсон', 'Довлатов', 'Александр Петров', 'Дмитрий Носков', 'Мария Рубановская Бэнд', 'Любовные', 'Антон Лушичев', 'Константин', 'Ахматова', 'Дмитрий Шостакович', 'Что', 'Дилан', 'Кристина Карпышева', 'Гарри Поттер', 'Элла Фицджеральд', '⚡ Поймешь', 'Менделеев', 'Том Харди', 'Пушкин   WEBLINK', 'Резерфорд', 'Шерил Ко', 'Эдуард Томша', 'Борис Акунин', 'Врач-иммунолог', 'Александр Бармак', 'Свадьба Фигаро', 'Андрей Capa', 'Марк Шагал', 'Леонардо', 'Александр Лециус', 'Эймс', 'Пиковая Дама', 'Грибы-мутанты', 'Ридли Скотт', 'Бэнкси', 'Вигго Мортенсен', 'Зинаида Юсупова', 'Хон Сонен', 'Билли Айлиш', 'Ольга Максимова', 'Иван Дорн', 'Искрящееся', 'Михаил Пореченков', 'Лев Николаевич Толстой', 'Медведица Машеньку', 'Николай Рерих', 'Александр Раевский', 'Сомова', 'Василий Кандинский', 'Хмелевой', 'Хью Джекман', 'Грин', 'Алексей Кузнецов', 'Лена', 'Алексей Громаков', 'Фотоловушка', 'Эль Фаннинг', 'Данаи', 'Сергей Бодров', 'Маргарет Этвуд', 'Евгений Елина', 'Хаарчааны', 'Алексей Поляков', 'Мэвл', 'Илья Варламов', 'Кристофер Нолан', 'Лена Попова', 'Петров-Водкино', 'Сергей Лейферкус', 'Денис Вовк', 'Владимир Чуланов', 'Дмитрий Озерков', 'Вадим Соловьев', 'Эне-Лийс Семпер', 'Дмитрий Алексеевич Милютин', 'Артур Смольянинов', 'Пушкин', 'Мориарти', 'Тедрос Адан Гебреисус', 'Гоголь', 'Ленина', 'Сергей Бобунец', 'Дилан Скалет', 'Байвань', 'Дмитрий Жученко', 'Тима Белорусских', 'Елисеевых', 'Ирина Чхиндж', 'Антонис ван Дейк', 'Басин', 'Петрикирхе', 'Антонио Вивальди', 'Сальвадор Дали', 'Валентин', 'Владимир Гусаров', 'Татьяна Денисова', 'Гарик Багдасарьян', 'Зиной Портновой', 'Манджунатх Мурал', 'Иван Айвазовский', 'Петр Великий', 'Анастасия Сазонова', 'Подробнее', 'Эми Адамс', 'Дракулы', 'Юрий Быков', 'Том Круз', 'Тийт Оясоо', 'Арег Тотолян', 'Маргарита Анатольевна Дмитриева', 'Марго Робби', 'Квентин Тарантино', 'Дмитрий Кузьмин', 'Георгий Юрьев', 'Также', 'Поль Гоген', 'Сергей Есенин', 'Трехчасовая', 'Мясников', 'Артур Конан Дойля', 'Анна Меликян', 'Рубенс', 'Шекспир', 'Агата Кристи', 'Александр Амфитеатров', 'Стокер', 'Олег Манов', 'Рамены', 'Агутин', 'Маяк Толбухин', 'Александр Беглов', 'Рафаэль', 'Владимир Голубев', 'Наталья Пшеничная', 'Долетите', 'Егор Дружинин', 'Александр Валентинович', 'Хаяо Миядзаки', 'Скриптонит', 'Брусницыных  Подробнее', 'Исследуйте', 'Изобель Льюис', 'Дельфин', 'Ира Гросу', 'Нурлан Сабуров', 'Питер Пауль Рубенс Якоб Йорданс', 'Толстой', 'Нолан', 'Александр Невский', 'Николай II', 'Анна Матвеева', 'Анна Броновицкая', 'Чжан Хуаня', 'Шуфутинского', 'Джордж Мартин', 'Вениамин Фильштинский', 'Николай I', 'Лиам Нисон', 'Петр Мазаев', 'Верещагин', 'Анастасия Стоцкая', 'Цой  WEBLINK', 'Альбрехт Дюрер', 'Джон Дэвид Вашингтон', 'Рерих', 'Дельфину', 'Петр I', 'Матисс', 'Дмитрий Шубин', 'Стив Карелла', 'Мария Филиппова', 'Жени', 'Хюгге', 'Хон Сонена', 'Теслу', 'Буковски', 'Бенуа', 'Лайфхаки', 'Тим Белорусских', 'Александр Горелов', 'Харрисон Форд', 'Джон Леннон', 'Вооружайтесь', 'Краськову', 'Учтите', 'Анри Матисс', 'Юрец Новокаин', 'Юрий Столыпин', 'Татьяна WEBLINK', 'Уильям Гибсон', 'Согрейтесь', 'Николаи', 'Франсуа Озон', 'Ефим Шифрин', 'Рене Магритта', 'Константин Сомов', 'Диана', 'Сюзанна', 'Врубеля', 'Михаил Александрович', 'Натаниель Готорна', 'Стэнли Кубрик', 'Бродский', 'Адам Драйвер', 'Итан Хоук', 'Вильгельм Гауф', 'Кажущийся', 'Станьте Человек-паук', 'Милош Форман', 'Мадонна', 'Пошлая Молли', 'Александр Острогорский', 'Михаил Касаткин', 'Стэнфорд', 'Хэлли Берри', 'Эдмунд Шклярский', 'Павел Штейнлухта', 'Билл', 'Петр I  WEBLINK', 'Алексей Чижик', 'Скарлетт Йоханссон', 'Александр Слонимский', 'Гайдар', 'Лавкравта', 'Михаил Гинзбург', 'Джонни Деппа  WEBLINK', 'Ева Гурари', 'Федор Михайлович', 'Кандинский', 'Бенедикт Камбербэтч', 'Нурлан', 'Мулан', 'Мечтающие', 'Гераклу', 'Николай Васильевич', 'Илья Тихомиров', 'Дмитрий Иоффе', 'Екатерина Тюрина', 'Энди Уорхол', 'Айвазовский', 'Петербург Ахматова', 'Крошик', 'Андрей Михайлов', 'Ирина Смирнова', 'Казанский', 'Сергей Донатович', 'Романовых  WEBLINK', 'Даниил Гранин', 'Адриану Лиму', 'Застывшая', 'MENTION', 'Палкин', 'Танечка', 'Вера Слуцкой', 'И', 'Noize MC', 'Джеймс Бонд', 'Ориониды', 'Медведь', 'Эрарт', 'Дацан Гунзэчойнэй', 'Чжан Хуань', 'Александр Даддарио', 'Эйнштейн', 'Владимир Дорофеев', 'Хоакин Феникс', 'Наталья Калинченко', 'Инфекционист Владислав Жемчугов', 'Эрарта', 'Вуди Аллен', 'Виктор Цой', 'Ленин', 'Плавание', 'Стивен Кинг', 'Леди Гагу', 'Сен-Санс', 'Трамп', 'Александр Загораев', 'Кайло Рен', 'Стивенсон', 'Алексей Попогребский', 'Дракулой', 'Анненкирхе', 'Бэнкси  WEBLINK', 'Фрэнсис Форд Коппола', 'Федор Конюхов', 'Михаил Мурашко', 'Константин Хабенский', 'Яна Кедрина', 'Дракуле', 'Эдди Редмэйна', 'Ольга Квасова', 'Ахилл', 'Нельсон  WEBLINK', 'Закажите', 'Максим Леонидов', 'Джаз', 'Кэндис Свейнпол', 'Аль Капоне', 'Дрифтить', 'Татьяна Васильева', 'Покрас Лампас', 'Михаил Мишустин', 'Джокере  WEBLINK', 'Александр Гинцбург', 'Максим Шугалей', 'Максим Валерьевич Кошелев', 'Артемий Гай', 'Федор Хиросиге', 'Атиллу', 'Гай Ричи'}\n"
     ]
    }
   ],
   "source": [
    "print (\"Персоны СПБ: \", len (persons_spb), \"персон\", persons_spb)"
   ]
  },
  {
   "cell_type": "code",
   "execution_count": 581,
   "metadata": {},
   "outputs": [],
   "source": [
    "with open (\"persons_spb.txt\", 'w', encoding=\"utf-8\") as f:\n",
    "    for word in persons_spb:\n",
    "        f.write (word +\"\\n\")"
   ]
  },
  {
   "cell_type": "code",
   "execution_count": 560,
   "metadata": {},
   "outputs": [
    {
     "name": "stdout",
     "output_type": "stream",
     "text": [
      "Организации СПБ:  588 организаций {'Музей неПравды', 'ВелоДрайв', 'Санкт-Петербургскую Школа программисты', 'Maruwa', 'ТНТ  WEBLINK', 'Jony', 'Смольный', 'Novinky', 'AIR', 'Приморский краеведческий музей', 'Бapтoл', 'Пандоре', 'Всемирная организация здравоохранение', 'Театр на Соборная', 'Росавиация', 'Мы', 'Film Craft', 'Сервис ОnеТwоТriр', 'Колдун', 'JJungleand', 'Деловой Петербург', 'Музей неправда', 'Музей оптика', 'On-the-Go', 'Ленинградский монетный двор', 'ТАНЦЫ', 'Институт кино и телевидение', 'ТРЦ', 'MOSTartmetal', 'Gucci', 'Подписные издания', 'Неоготический Собор Святой Михаил', 'S7 Airlines', 'Artista', 'СОVID-19', 'Вход свободный', 'Ведомости', 'Центр', 'BBQ Shaverma', 'ТНТ', 'WEST 8', 'Nami', 'J&M SHOW', 'Drop The Bass', 'Аррle', 'Театр кошки Куклачев', 'Большой театр  Подробности: WEBLINK', 'Петровский док', 'Лауд', 'Pax', 'Плюшки', 'Невский сверху❤', 'Высочайшая школа экономика', 'Gr', 'Мультсериал', 'Международная Школа Дизайн (IDS-Петербург)', 'Визовый центр', 'Пикник', 'ТАСС', 'Poc', 'Санкт-Петербург', 'Министерство просвещение', 'Севкабель Порт', 'Горбилет', 'Телеграм-канал', 'Эксмо', 'тюз', 'Drift Karting', 'Urbancod', 'Центр спасение медвежата-сироты', 'СПбГУ', 'Duoband', 'Собор', 'Музей История Медицины и Фармация «РетроФармаМед', 'Богдановичский фарфоровый завод', 'Министерство культура', 'Радио Record', 'Instagram', 'Ассоциация библиотеки', 'KINO CORNER  WEBLINK', 'Центр социальная абилитация', 'Театр Куклачева', 'AIR WEBLINK', 'Sup-Patrol', 'Netflix', 'Etnozapil', 'Спутник V', 'Исаакиевский собор', 'Визовые центры', 'Объединенной сеть кинотеатры («Кино Окко', 'Генеральное консульство', 'Сила ветер', 'Зимний дворец', 'The Hatters', 'BIGFISH DMC Family', 'RАSA', 'Большой театр', 'Faсеbook', 'Музей нонконформистское искусство', 'Markul', 'Московская печатная фабрика', 'Северная Венеция', 'KINO CORNEER', 'Google', 'Заря', 'Росздравнадзор', 'Михайловский театр', 'А2 Green Concert', 'СК «Юбилейный»', 'Банк для внешняя торговля', 'Академия Штиглица', 'Feduk', 'Туристический', 'Kitoboy', 'Маргарита', 'Тинькофф Арена', 'Ассоциация владельцы кинотеатры', 'Спичка', 'Ленинградский рок-клуб', 'Николаевский зал', 'Telegram', 'ЖК', 'LITTLE BIG', 'Модный дом', 'SUPERMOTIV', 'Кино Mail. Ru', 'Музей современное искусство', 'Вокруг Пяти углы', 'Петербургская ярмарка', 'Московская', 'Военно-медицинский музей «Занимательная медицина', 'ВЫСОТНЫЙ ГОРОД', 'РГИСИ', 'велодрайв', 'AliExpress', 'Billy’s Band', 'Логи Апарт', 'Российская остеопатическая ассоциация', 'Ipsos', 'Школа футбол «Ангелболл', 'Лаборатория рентгеновская астрономия Солнце ФИАН', 'Музей Эрарт', 'Samsung', 'Арсенал', 'Сибур Арена', 'Selar Park', 'Фонд друзья балтийская нерпа', 'Инстаграм', 'Дом Книга', 'Яндекс', 'Финская Кирха Лумиваара', 'Спа-отель «Гелиос»', 'News. ru', 'Ленинградский зоопарк', 'Заточка', 'KudaGo  WEBLINK', 'ТСЖ', 'Санкт-Петербургская соборная мечеть', 'ROOF PLACE', 'Zippia', 'Netflix  WEBLINK', 'Aurora', 'Гознака', 'КиноПоиск HD', 'Двигатель Революция', 'Санкт-Петербургский Дом Книга', 'Shortparis', 'WEBLINK Jewelry', 'FREEDOM', 'Лето', 'Звери', 'Arzamas', 'Российская национальная библиотека', 'Пермский академический', 'Санкт-Петербургская Школа программисты', 'Морской собор', 'Ленинградская АЭС', 'Национальная электронная библиотека', 'Комитет по здравоохранение', 'Co', 'Нерюнгринский государственный театр актер и кукла', 'Dreamteam', 'IOWA', 'Gancher & Ruin', 'Linуs', 'РЖД', 'ДДТ', 'HD  WEBLINK', 'Московская архитектурная школа', 'Антон тут рядом', 'Музей сновидения Зигмунд Фрейд', 'Базовый', 'Юность', 'CAKEBOY', 'Beктop', 'Русский музей', 'ЦВЗ «Манеж»', 'ТВ-3', 'Wade Layonn', 'Музей Эрарта', 'The New York Times', 'Немецкий университет', 'Музей советские', 'Victoria’s Secret Fashion Show', 'Rotten Tomatoes', 'Open Culture', 'Питеруфс', 'Мичуринский драматический театр', 'Студия 44', 'Министерство экономическое развитие', 'КиноПоиск', 'HBO', 'Smartavia', 'МОРС', 'ГИБДД', 'ТЦ «Великан Парк', 'Десяткино WEBLINK', 'ГШ', 'Enei', 'CNN', 'Семеновский полок', 'Ломоносов', 'БДТ имя Товстоногов', 'Сансары', 'Театр-Театр', 'ФСИН', 'Roof Place', 'Лазерфраг', 'Лахта Центр', 'Ars Electronica', 'Библиотека', 'Эсперанто', 'Минздрав', 'Иллюзиум', 'Азбука-Аттикус', 'The Independent', 'Мумий Тролль', 'Квадрат', 'Ростуризм', 'Газета metro', 'Фонд Доноры', 'Национальная медиа', 'Академия цифровые технологии', 'Девяткино', 'Ishome', 'Институт модернизм', 'St. Разин', 'Apple', 'Планетарий №1', 'Tpe', 'Метрополитен Петербург', 'Greenpeace', 'Интерфакс', 'Spotify', 'По ТВ', 'ВМФ', 'За мир без наркотики', 'Monokle', 'Роспотребнадзор', 'Эрмитаж', 'А2  WEBLINK', 'Музей железные дороги', 'NILETTO', 'Уффици', 'Opera Concert Club', 'Корейская кухня', 'Level One', 'DC', 'Сквер Володин', 'Мега', 'ВелесО', 'Peperoni', 'Эпидемия', 'Бессмертный полок', 'СМИ', 'Государственный Эрмитаж', 'Дом «Логи Апарт', 'Музей стрит-арт', 'Петровский', 'Третьяковская галерея', 'Александровская больница', 'TSUNAMI PICNIC', 'Ангелболл', 'Библиотека имя Гоголь', 'Артхив', 'Moc', 'Кинологический федерация', 'ROCKET', 'Новая Голландия', 'Avant Gardner', 'Здоровье', 'Минкульт', 'WEBLINK', 'Морской Никольский собор', 'Дворец княгини Юсупова', 'Победа', 'Флигель', 'Искусства', 'Библиотека Некрасов', 'Engage', 'Avenu', 'Спасибо!', 'Royal Canin', 'Pocc', 'Группа ЦДС', 'Нева-Кронверк', 'Moreevents', 'Inspiria', 'Центр городские волонтеры', 'Вузы Петербург', 'Смысловые галлюцинации', 'ДС «Юбилейный»', 'Nadya. O', 'Иванушек', 'Большой драматический театр имя Товстоногов', 'Скороход', 'ВО', 'Музей маяки', 'Like Book', 'Vogue', 'Античный зал', 'Ярмарка  ВХОД СВОБОДНЫЙ  Адрес: WEBLINK', 'Казанский собор', 'Никольские ряды', 'Формула Кино', 'Я свободный', 'Люмьер Холл', 'Музеи-заповедники', 'Центр имя Гамалея', 'Московская консерватория приглашающий', 'Минпросвещения', 'Психоневрологический Дом ребенок № 6', 'Азазель', 'Nuage', 'АТОР', 'J&M School', 'Дворец княгиня', 'Наши дети', 'Теплые кофейни Петербург  WEBLINK', 'Nurguyana', 'Музей связь', 'ВЦИОМ', 'ЗСД', 'Группа «ЦДС»', 'Кафедральный собор Петр и Павел', 'Эксмо-АСТ', 'TCH', 'IМDb', 'Самарский институт диетология', 'Butcher House', 'Дворец', 'VR-кит', 'Be Happy', 'ТОП-10', 'НВО', 'Мариинский театр', 'Радио Рекорд', 'GQ', 'Royal Air Maroc', 'Церковь Святой Александр Невский', 'Янтарная комната', 'Никольские ряды)', 'Profit', 'Ренессанс', 'Маркет у море', 'National Geographic', 'Простые вещи', 'Российская Национальная Библиотека', 'Росгвардия', 'МОТИВ CREW', 'Les Amis Group', 'Groza', 'Козья Слобода', 'EducationUSA Russia', 'Дворец культура работники связь', 'Российская академия науки', 'Подорожником', 'Andro', 'мегафон', 'Рекрутинг', 'Milutin Dvor', 'Royal Beach', 'Strip', 'iLocked', 'Комитет по развитие транспортная инфраструктура', 'Башня святой Олафа', 'Музей Магия', 'Видеостудия 360 VISION', 'Виртуозы', 'Форсайт', 'Архрезиденция', 'Ночлежка', 'ЖЭУ № 5  10', 'Inspiria  WEBLINK', 'Манеж', 'Первый российское страховое общество', 'COVID-19', 'KudaGo', 'ВК', 'ДЛТ', 'А2', 'Ветмобиль', 'DGLS Craft', 'Hyper Club', 'Люмьер-Холл', 'JazzLike', 'VkusnoDoner', 'ЦНИИ эпидемиология', 'Театральная', 'Black Barrel', 'Военно-морской флот', 'ГУП «TЭK', 'ВКонтакте', 'Аврора', 'Чайхана Пахвала & Вкусновица', 'Lookport', 'Комсомольская правда', 'Nеtflix', 'Парк Монрепо', 'Смольного', 'Third Place Art Fair', 'НИУ ВШЭ', 'гитис', 'Новый Петергоф', 'Министерство здравоохранение', 'Новокрестовскую', 'Со', 'Шкаф', 'WWF', 'Hyper Port', 'Mirèle', 'Музей оптика становящиеся', 'Хлеб', 'City Pub Crawl', 'IKEA', 'YоuТube Russi', 'Аджабсандал', 'Skillbox', 'Пассаж', 'The Groove Merchants', 'Гарвард', '78. ru', 'Yle', 'Белгородский государственный театр куклы', 'Ассоциация телевизионные критики', 'KINO CORNER', 'Зенит', 'Никольских ряды', 'Лаборатория 31', 'Аэрофлот', 'Philibert', 'Синема Парк', 'Пулковская обсерватория «Солнечный телескоп', 'PROТАНЦЫ Питер', 'Элиты', 'FLIPPER FLOYD', 'Карл и Фридрих', 'Спящий Исаакиевский собор', 'Северский театр', 'Гибли', 'Пулково', 'Мeжд', 'ИТМО', 'Венская опера', 'Pycc', 'Гознак', 'Незабудки', 'Специализированный психоневрологический Дом ребенок № 13', 'Ульяновский Театр Кукол имя', 'Ekaterina Tolstaya Jewelry', 'Warner Bros', 'Tripster', 'СоmmonРаss', 'Музей деньги', 'Мессенджер', 'Космонавт', 'ОМС', 'Новая сцена', 'Outward Music Local', 'Кризисный центр для женщины', 'Red Star', 'Петербург Ахматова WEBLINK', 'Авиакомпания «Уральские авиалинии', 'MARKUL', 'Art&Science', 'ВОЗ', 'Лента', 'Loketski', 'WE&I by Vertical', 'Ленфильм', 'Бюро', 'Freedom', 'Jungleand', 'The Beatles', 'Охта Групп', 'WEBLINK Бармак', 'Бабагануш', 'Tobax', 'Тбилисо', 'Disney+', 'Wizz Air', 'Пандора', 'К-30', 'ЭтоЭтно', 'Магазин Купцы Елисеевых', 'Оксфорд', 'Noize MC', 'МОТИВ CREW: WEBLINK', 'Кемеровский областной театр куклы имя. Аркадий Гайдар', 'Кинолахта', 'ELLE', 'Начало', 'Sweet Hot Jazz Band', 'Ундервуд', 'Фонтанка', 'ТРК «Европолис»', 'Музей-заповедник «Царское Село', 'Явь', 'Парк «Новая Голландия', 'Парк 300-летия', 'Storytel', 'Facebook', 'River House', 'РАН', 'Церковный корпус', 'Петергоф', 'FAN', 'Альпенхаус', 'DOPECLVBWORLD', 'Record', 'Церковь Святая Троица', 'Царство-Королевство', 'Elman', 'ТехПоддержки', 'Nullum', '404zero', 'Blank', 'Велес', 'Школа программисты', 'Ленинград Центр', 'Университет ИТМО', 'Бомбора', 'Военно-медицинский музей', 'Дом 12', 'HD', 'VRoom Games', 'Гидрометцентр', 'Университет Лид', 'Steppa Style', 'Beeline', 'Рестораны', 'МОТИВ', 'Utair', 'Nike', 'Gеnting Сruis', 'BTS', 'Планетарий № 1', 'ЛитРес', 'Milk United', 'Музей история', 'Дом кино', 'Большой петергофский дворец', 'CREAM SODA', 'Фонд', 'КиноПоиск HD!', 'МАРШ', 'Roots United', 'Увула', 'HippoBand', 'Пушкинская-10', 'Milutin Palace', 'Фотопрогулка', 'Comedy Club', 'Александринский театр', 'Ap', 'Baden Baden', 'Радио RECORD', 'Ленэкспо', 'ROOF PLACE  WEBLINK', 'KINO', 'Госдума', 'Patreon', 'Саратовский академический ТЮЗ имя. Ю. П. Киселев', 'Радио Россия', 'YouTube', 'Ленфильм-клуб', 'Univеrsаl Рiсturеs', 'Green Vibes'}\n"
     ]
    }
   ],
   "source": [
    "print (\"Организации СПБ: \", len (organizations_spb), \"организаций\", organizations_spb)"
   ]
  },
  {
   "cell_type": "code",
   "execution_count": 582,
   "metadata": {},
   "outputs": [],
   "source": [
    "with open (\"organizations_spb.txt\", 'w', encoding=\"utf-8\") as f:\n",
    "    for word in organizations_spb:\n",
    "        f.write (word +\"\\n\")"
   ]
  },
  {
   "cell_type": "code",
   "execution_count": 587,
   "metadata": {},
   "outputs": [],
   "source": [
    "set_organizations_msk = set (organizations_msk)\n",
    "set_locations_msk = set (locations_msk)\n",
    "set_persons_msk = set (persons_msk)"
   ]
  },
  {
   "cell_type": "code",
   "execution_count": 588,
   "metadata": {},
   "outputs": [],
   "source": [
    "set_organizations_spb = set (organizations_spb)\n",
    "set_locations_spb = set (locations_spb)\n",
    "set_persons_spb = set (persons_spb)"
   ]
  },
  {
   "cell_type": "code",
   "execution_count": 589,
   "metadata": {},
   "outputs": [],
   "source": [
    "organizations_intersection = set_organizations_msk.intersection(set_organizations_spb)"
   ]
  },
  {
   "cell_type": "code",
   "execution_count": 590,
   "metadata": {},
   "outputs": [],
   "source": [
    "with open (\"organizations_intersection\", 'w', encoding=\"utf-8\") as f:\n",
    "    for word in organizations_intersection:\n",
    "        f.write (word +\"\\n\")"
   ]
  },
  {
   "cell_type": "code",
   "execution_count": 591,
   "metadata": {},
   "outputs": [],
   "source": [
    "locations_intersection = set_locations_msk.intersection(set_locations_spb)"
   ]
  },
  {
   "cell_type": "code",
   "execution_count": 592,
   "metadata": {},
   "outputs": [],
   "source": [
    "with open (\"locations_intersection\", 'w', encoding=\"utf-8\") as f:\n",
    "    for word in locations_intersection:\n",
    "        f.write (word +\"\\n\")"
   ]
  },
  {
   "cell_type": "code",
   "execution_count": 593,
   "metadata": {},
   "outputs": [],
   "source": [
    "persons_intersection = set_persons_msk.intersection(set_persons_spb)"
   ]
  },
  {
   "cell_type": "code",
   "execution_count": 594,
   "metadata": {},
   "outputs": [],
   "source": [
    "with open (\"persons_intersection\", 'w', encoding=\"utf-8\") as f:\n",
    "    for word in persons_intersection:\n",
    "        f.write (word +\"\\n\")"
   ]
  }
 ],
 "metadata": {
  "kernelspec": {
   "display_name": "Python 3",
   "language": "python",
   "name": "python3"
  }
 },
 "nbformat": 4,
 "nbformat_minor": 4
}
